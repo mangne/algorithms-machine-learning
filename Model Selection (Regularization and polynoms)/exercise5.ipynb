{
 "cells": [
  {
   "cell_type": "markdown",
   "metadata": {},
   "source": [
    "# Programming Exercise 5:\n",
    "# Regularized Linear Regression and Bias vs Variance\n",
    "\n",
    "## Introduction\n",
    "\n",
    "In this exercise, you will implement regularized linear regression and use it to study models with different bias-variance properties. Before starting on the programming exercise, we strongly recommend watching the video lectures and completing the review questions for the associated topics.\n",
    "\n",
    "All the information you need for solving this assignment is in this notebook, and all the code you will be implementing will take place within this notebook. The assignment can be promptly submitted to the coursera grader directly from this notebook (code and instructions are included below).\n",
    "\n",
    "Before we begin with the exercises, we need to import all libraries required for this programming exercise. Throughout the course, we will be using [`numpy`](http://www.numpy.org/) for all arrays and matrix operations, [`matplotlib`](https://matplotlib.org/) for plotting, and [`scipy`](https://docs.scipy.org/doc/scipy/reference/) for scientific and numerical computation functions and tools. You can find instructions on how to install required libraries in the README file in the [github repository](https://github.com/dibgerge/ml-coursera-python-assignments)."
   ]
  },
  {
   "cell_type": "code",
   "execution_count": 1,
   "metadata": {},
   "outputs": [],
   "source": [
    "# used for manipulating directory paths\n",
    "import os\n",
    "\n",
    "# Scientific and vector computation for python\n",
    "import numpy as np\n",
    "\n",
    "# Plotting library\n",
    "from matplotlib import pyplot\n",
    "\n",
    "# Optimization module in scipy\n",
    "from scipy import optimize\n",
    "\n",
    "# will be used to load MATLAB mat datafile format\n",
    "from scipy.io import loadmat\n",
    "\n",
    "# library written for this exercise providing additional functions for assignment submission, and others\n",
    "import utils\n",
    "\n",
    "# define the submission/grader object for this exercise\n",
    "grader = utils.Grader()\n",
    "\n",
    "# tells matplotlib to embed plots within the notebook\n",
    "%matplotlib inline"
   ]
  },
  {
   "cell_type": "markdown",
   "metadata": {},
   "source": [
    "## Submission and Grading\n",
    "\n",
    "\n",
    "After completing each part of the assignment, be sure to submit your solutions to the grader. The following is a breakdown of how each part of this exercise is scored.\n",
    "\n",
    "\n",
    "| Section | Part                                             | Submitted Function                | Points |\n",
    "| :-      |:-                                                |:-                                 | :-:    |\n",
    "| 1       | [Regularized Linear Regression Cost Function](#section1)      | [`linearRegCostFunction`](#linearRegCostFunction) |  25    |\n",
    "| 2       | [Regularized Linear Regression Gradient](#section2)           | [`linearRegCostFunction`](#linearRegCostFunction) |25      |\n",
    "| 3       | [Learning Curve](#section3)                                   | [`learningCurve`](#func2)         | 20     |\n",
    "| 4       | [Polynomial Feature Mapping](#section4)                       | [`polyFeatures`](#polyFeatures)          | 10     |\n",
    "| 5       | [Cross Validation Curve](#section5)                           | [`validationCurve`](#validationCurve)       | 20     |\n",
    "|         | Total Points                                     |                                   |100     |\n",
    "\n",
    "\n",
    "You are allowed to submit your solutions multiple times, and we will take only the highest score into consideration.\n",
    "\n",
    "<div class=\"alert alert-block alert-warning\">\n",
    "At the end of each section in this notebook, we have a cell which contains code for submitting the solutions thus far to the grader. Execute the cell to see your score up to the current section. For all your work to be submitted properly, you must execute those cells at least once.\n",
    "</div>"
   ]
  },
  {
   "cell_type": "markdown",
   "metadata": {},
   "source": [
    "<a id=\"section1\"></a>\n",
    "## 1 Regularized Linear Regression\n",
    "\n",
    "In the first half of the exercise, you will implement regularized linear regression to predict the amount of water flowing out of a dam using the change of water level in a reservoir. In the next half, you will go through some diagnostics of debugging learning algorithms and examine the effects of bias v.s.\n",
    "variance. \n",
    "\n",
    "### 1.1 Visualizing the dataset\n",
    "\n",
    "We will begin by visualizing the dataset containing historical records on the change in the water level, $x$, and the amount of water flowing out of the dam, $y$. This dataset is divided into three parts:\n",
    "\n",
    "- A **training** set that your model will learn on: `X`, `y`\n",
    "- A **cross validation** set for determining the regularization parameter: `Xval`, `yval`\n",
    "- A **test** set for evaluating performance. These are “unseen” examples which your model did not see during training: `Xtest`, `ytest`\n",
    "\n",
    "Run the next cell to plot the training data. In the following parts, you will implement linear regression and use that to fit a straight line to the data and plot learning curves. Following that, you will implement polynomial regression to find a better fit to the data."
   ]
  },
  {
   "cell_type": "code",
   "execution_count": 213,
   "metadata": {},
   "outputs": [],
   "source": [
    "data = loadmat(os.path.join('Data', 'ex5data1.mat'))"
   ]
  },
  {
   "cell_type": "code",
   "execution_count": 7,
   "metadata": {},
   "outputs": [
    {
     "data": {
      "text/plain": [
       "(12,)"
      ]
     },
     "execution_count": 7,
     "metadata": {},
     "output_type": "execute_result"
    }
   ],
   "source": [
    "data['y'][:, 0].shape"
   ]
  },
  {
   "cell_type": "code",
   "execution_count": 10,
   "metadata": {},
   "outputs": [
    {
     "data": {
      "text/plain": [
       "(21, 1)"
      ]
     },
     "execution_count": 10,
     "metadata": {},
     "output_type": "execute_result"
    }
   ],
   "source": [
    "data['Xtest'].shape"
   ]
  },
  {
   "cell_type": "code",
   "execution_count": 215,
   "metadata": {},
   "outputs": [],
   "source": [
    "X, y = data['X'], data['y'][:, 0]\n",
    "Xtest, ytest = data['Xtest'], data['ytest'][:, 0]\n",
    "Xval, yval = data['Xval'], data['yval'][:, 0]\n",
    "\n",
    "\n",
    "m = y.size"
   ]
  },
  {
   "cell_type": "code",
   "execution_count": 11,
   "metadata": {},
   "outputs": [
    {
     "data": {
      "text/plain": [
       "12"
      ]
     },
     "execution_count": 11,
     "metadata": {},
     "output_type": "execute_result"
    }
   ],
   "source": [
    "data['y'].size"
   ]
  },
  {
   "cell_type": "code",
   "execution_count": 216,
   "metadata": {},
   "outputs": [
    {
     "data": {
      "image/png": "[encoded data removed]",
      "text/plain": [
       "<Figure size 432x288 with 1 Axes>"
      ]
     },
     "metadata": {
      "needs_background": "light"
     },
     "output_type": "display_data"
    }
   ],
   "source": [
    "pyplot.plot(X,y, 'bo', ms= 6, mec = 'k', mew = 2)\n",
    "pyplot.xlabel('Change in water level(x)')\n",
    "pyplot.ylabel('Water flowing out of the dam (y)');\n",
    "\n",
    "\n",
    "#seems quadratic function \n",
    "#also features are not scaled(but there is only one feature)"
   ]
  },
  {
   "cell_type": "code",
   "execution_count": null,
   "metadata": {},
   "outputs": [],
   "source": [
    "# Load from ex5data1.mat, where all variables will be store in a dictionary\n",
    "data = loadmat(os.path.join('Data', 'ex5data1.mat'))\n",
    "\n",
    "# Extract train, test, validation data from dictionary\n",
    "# and also convert y's form 2-D matrix (MATLAB format) to a numpy vector\n",
    "X, y = data['X'], data['y'][:, 0]\n",
    "Xtest, ytest = data['Xtest'], data['ytest'][:, 0]\n",
    "Xval, yval = data['Xval'], data['yval'][:, 0]\n",
    "\n",
    "# m = Number of examples\n",
    "m = y.size\n",
    "\n",
    "# Plot training data\n",
    "pyplot.plot(X, y, 'ro', ms=10, mec='k', mew=1)\n",
    "pyplot.xlabel('Change in water level (x)')\n",
    "pyplot.ylabel('Water flowing out of the dam (y)');"
   ]
  },
  {
   "cell_type": "markdown",
   "metadata": {},
   "source": [
    "### 1.2 Regularized linear regression cost function\n",
    "\n",
    "Recall that regularized linear regression has the following cost function:\n",
    "\n",
    "$$ J(\\theta) = \\frac{1}{2m} \\left( \\sum_{i=1}^m \\left( h_\\theta\\left( x^{(i)} \\right) - y^{(i)} \\right)^2 \\right) + \\frac{\\lambda}{2m} \\left( \\sum_{j=1}^n \\theta_j^2 \\right)$$\n",
    "\n",
    "where $\\lambda$ is a regularization parameter which controls the degree of regularization (thus, help preventing overfitting). The regularization term puts a penalty on the overall cost J. As the magnitudes of the model parameters $\\theta_j$ increase, the penalty increases as well. Note that you should not regularize\n",
    "the $\\theta_0$ term.\n",
    "\n",
    "You should now complete the code in the function `linearRegCostFunction` in the next cell. Your task is to calculate the regularized linear regression cost function. If possible, try to vectorize your code and avoid writing loops.\n",
    "<a id=\"linearRegCostFunction\"></a>"
   ]
  },
  {
   "cell_type": "code",
   "execution_count": 217,
   "metadata": {},
   "outputs": [],
   "source": [
    "def linearRegCostFunction(X, y, theta, lambda_=0.0):\n",
    "    \"\"\"\n",
    "    Compute cost and gradient for regularized linear regression \n",
    "    with multiple variables. Computes the cost of using theta as\n",
    "    the parameter for linear regression to fit the data points in X and y. \n",
    "    \n",
    "    Parameters\n",
    "    ----------\n",
    "    X : array_like\n",
    "        The dataset. Matrix with shape (m x n + 1) where m is the \n",
    "        total number of examples, and n is the number of features \n",
    "        before adding the bias term.\n",
    "    \n",
    "    y : array_like\n",
    "        The functions values at each datapoint. A vector of\n",
    "        shape (m, ).\n",
    "    \n",
    "    theta : array_like\n",
    "        The parameters for linear regression. A vector of shape (n+1,).\n",
    "    \n",
    "    lambda_ : float, optional\n",
    "        The regularization parameter.\n",
    "    \n",
    "    Returns\n",
    "    -------\n",
    "    J : float\n",
    "        The computed cost function. \n",
    "    \n",
    "    grad : array_like\n",
    "        The value of the cost function gradient w.r.t theta. \n",
    "        A vector of shape (n+1, ).\n",
    "    \n",
    "    Instructions\n",
    "    ------------\n",
    "    Compute the cost and gradient of regularized linear regression for\n",
    "    a particular choice of theta.\n",
    "    You should set J to the cost and grad to the gradient.\n",
    "    \"\"\"\n",
    "    # Initialize some useful values\n",
    "    m = y.size # number of training examples\n",
    "\n",
    "    # You need to return the following variables correctly \n",
    "    J = 0\n",
    "    grad = np.zeros(theta.shape)\n",
    "\n",
    "    # ====================== YOUR CODE HERE ======================\n",
    "    temp = theta.copy()\n",
    "    temp[0] = 0\n",
    "    \n",
    "    h = X@theta\n",
    "    J = (1/(2*m))*np.sum(np.square((h-y))) + (lambda_/(2*m))*np.sum(np.square(temp))\n",
    "    grad = grad+ ((1/m)*(X.T@(h-y))+(lambda_/m)*temp)\n",
    "\n",
    "    # ============================================================\n",
    "    return J, grad"
   ]
  },
  {
   "cell_type": "markdown",
   "metadata": {},
   "source": [
    "When you are finished, the next cell will run your cost function using `theta` initialized at `[1, 1]`. You should expect to see an output of 303.993."
   ]
  },
  {
   "cell_type": "code",
   "execution_count": 59,
   "metadata": {},
   "outputs": [
    {
     "name": "stdout",
     "output_type": "stream",
     "text": [
      "Cost at theta = [1, 1]:\t   303.993192 \n",
      "This value should be about 303.993192)\n",
      "\n"
     ]
    }
   ],
   "source": [
    "theta = np.array([1, 1])\n",
    "J, _ = linearRegCostFunction(np.concatenate([np.ones((m, 1)), X], axis=1), y, theta, 1)\n",
    "\n",
    "print('Cost at theta = [1, 1]:\\t   %f ' % J)\n",
    "print('This value should be about 303.993192)\\n' % J)"
   ]
  },
  {
   "cell_type": "markdown",
   "metadata": {},
   "source": [
    "After completing a part of the exercise, you can submit your solutions for grading by first adding the function you modified to the submission object, and then sending your function to Coursera for grading. \n",
    "\n",
    "The submission script will prompt you for your login e-mail and submission token. You can obtain a submission token from the web page for the assignment. You are allowed to submit your solutions multiple times, and we will take only the highest score into consideration.\n",
    "\n",
    "*Execute the following cell to grade your solution to the first part of this exercise.*"
   ]
  },
  {
   "cell_type": "code",
   "execution_count": 60,
   "metadata": {},
   "outputs": [
    {
     "name": "stdout",
     "output_type": "stream",
     "text": [
      "\n",
      "Submitting Solutions | Programming Exercise regularized-linear-regression-and-bias-variance\n",
      "\n",
      "Login (email address): nehatrical@gmail.com\n",
      "Token: ggzrckSLpLK16VJ8\n",
      "                                  Part Name |     Score | Feedback\n",
      "                                  --------- |     ----- | --------\n",
      "Regularized Linear Regression Cost Function |  25 /  25 | Nice work!\n",
      "     Regularized Linear Regression Gradient |   0 /  25 | \n",
      "                             Learning Curve |   0 /  20 | \n",
      "                 Polynomial Feature Mapping |   0 /  10 | \n",
      "                           Validation Curve |   0 /  20 | \n",
      "                                  --------------------------------\n",
      "                                            |  25 / 100 |  \n",
      "\n"
     ]
    }
   ],
   "source": [
    "grader[1] = linearRegCostFunction\n",
    "grader.grade()"
   ]
  },
  {
   "cell_type": "markdown",
   "metadata": {},
   "source": [
    "<a id=\"section2\"></a>\n",
    "### 1.3 Regularized linear regression gradient\n",
    "\n",
    "Correspondingly, the partial derivative of the cost function for regularized linear regression is defined as:\n",
    "\n",
    "$$\n",
    "\\begin{align}\n",
    "& \\frac{\\partial J(\\theta)}{\\partial \\theta_0} = \\frac{1}{m} \\sum_{i=1}^m \\left( h_\\theta \\left(x^{(i)} \\right) - y^{(i)} \\right) x_j^{(i)} & \\qquad \\text{for } j = 0 \\\\\n",
    "& \\frac{\\partial J(\\theta)}{\\partial \\theta_j} = \\left( \\frac{1}{m} \\sum_{i=1}^m \\left( h_\\theta \\left( x^{(i)} \\right) - y^{(i)} \\right) x_j^{(i)} \\right) + \\frac{\\lambda}{m} \\theta_j & \\qquad \\text{for } j \\ge 1\n",
    "\\end{align}\n",
    "$$\n",
    "\n",
    "In the function [`linearRegCostFunction`](#linearRegCostFunction) above, add code to calculate the gradient, returning it in the variable `grad`. <font color='red'><b>Do not forget to re-execute the cell containing this function to update the function's definition.</b></font>\n",
    "\n",
    "\n",
    "When you are finished, use the next cell to  run your gradient function using theta initialized at `[1, 1]`. You should expect to see a gradient of `[-15.30, 598.250]`."
   ]
  },
  {
   "cell_type": "code",
   "execution_count": 67,
   "metadata": {},
   "outputs": [
    {
     "name": "stdout",
     "output_type": "stream",
     "text": [
      "J at theta = [1,1]:303.993192\n",
      "Gradient at theta = [1, 1]:  [-15.303016, 598.250744] \n",
      " (this value should be about [-15.303016, 598.250744])\n",
      "\n"
     ]
    }
   ],
   "source": [
    "theta = np.array([1, 1])\n",
    "J, grad = linearRegCostFunction(np.concatenate([np.ones((m, 1)), X], axis=1), y, theta, 1)\n",
    "\n",
    "print('J at theta = [1,1]:{:.6f}'.format(J))\n",
    "print('Gradient at theta = [1, 1]:  [{:.6f}, {:.6f}] '.format(*grad))\n",
    "print(' (this value should be about [-15.303016, 598.250744])\\n')"
   ]
  },
  {
   "cell_type": "markdown",
   "metadata": {},
   "source": [
    "*You should now submit your solutions.*"
   ]
  },
  {
   "cell_type": "code",
   "execution_count": 62,
   "metadata": {},
   "outputs": [
    {
     "name": "stdout",
     "output_type": "stream",
     "text": [
      "\n",
      "Submitting Solutions | Programming Exercise regularized-linear-regression-and-bias-variance\n",
      "\n",
      "Use token from last successful submission (nehatrical@gmail.com)? (Y/n): Y\n",
      "                                  Part Name |     Score | Feedback\n",
      "                                  --------- |     ----- | --------\n",
      "Regularized Linear Regression Cost Function |  25 /  25 | Nice work!\n",
      "     Regularized Linear Regression Gradient |  25 /  25 | Nice work!\n",
      "                             Learning Curve |   0 /  20 | \n",
      "                 Polynomial Feature Mapping |   0 /  10 | \n",
      "                           Validation Curve |   0 /  20 | \n",
      "                                  --------------------------------\n",
      "                                            |  50 / 100 |  \n",
      "\n"
     ]
    }
   ],
   "source": [
    "grader[2] = linearRegCostFunction\n",
    "grader.grade()"
   ]
  },
  {
   "cell_type": "code",
   "execution_count": 218,
   "metadata": {},
   "outputs": [],
   "source": [
    "def trainLinearReg(linearRegCostFunction, X, y, lambda_=0.0, maxiter=200):\n",
    "    \"\"\"\n",
    "    Trains linear regression using scipy's optimize.minimize.\n",
    "\n",
    "    Parameters\n",
    "    ----------\n",
    "    X : array_like\n",
    "        The dataset with shape (m x n+1). The bias term is assumed to be concatenated.\n",
    "\n",
    "    y : array_like\n",
    "        Function values at each datapoint. A vector of shape (m,).\n",
    "\n",
    "    lambda_ : float, optional\n",
    "        The regularization parameter.\n",
    "\n",
    "    maxiter : int, optional\n",
    "        Maximum number of iteration for the optimization algorithm.\n",
    "\n",
    "    Returns\n",
    "    -------\n",
    "    theta : array_like\n",
    "        The parameters for linear regression. This is a vector of shape (n+1,).\n",
    "    \"\"\"\n",
    "    # Initialize Theta\n",
    "    initial_theta = np.zeros(X.shape[1])\n",
    "\n",
    "    # Create \"short hand\" for the cost function to be minimized\n",
    "    costFunction = lambda t: linearRegCostFunction(X, y, t, lambda_)\n",
    "\n",
    "    # Now, costFunction is a function that takes in only one argument\n",
    "    options = {'maxiter': maxiter, 'disp':True}\n",
    "\n",
    "    # Minimize using scipy\n",
    "    res = optimize.minimize(costFunction, initial_theta, jac=True, method='TNC', options=options)\n",
    "    return res.x, res.fun"
   ]
  },
  {
   "cell_type": "markdown",
   "metadata": {},
   "source": [
    "### Fitting linear regression\n",
    "\n",
    "Once your cost function and gradient are working correctly, the next cell will run the code in `trainLinearReg` (found in the module `utils.py`) to compute the optimal values of $\\theta$. This training function uses `scipy`'s optimization module to minimize the cost function.\n",
    "\n",
    "In this part, we set regularization parameter $\\lambda$ to zero. Because our current implementation of linear regression is trying to fit a 2-dimensional $\\theta$, regularization will not be incredibly helpful for a $\\theta$ of such low dimension. In the later parts of the exercise, you will be using polynomial regression with regularization.\n",
    "\n",
    "Finally, the code in the next cell should also plot the best fit line, which should look like the figure below. \n",
    "\n",
    "![](Figures/linear_fit.png)\n",
    "\n",
    "The best fit line tells us that the model is not a good fit to the data because the data has a non-linear pattern. While visualizing the best fit as shown is one possible way to debug your learning algorithm, it is not always easy to visualize the data and model. In the next section, you will implement a function to generate learning curves that can help you debug your learning algorithm even if it is not easy to visualize the\n",
    "data."
   ]
  },
  {
   "cell_type": "code",
   "execution_count": 219,
   "metadata": {},
   "outputs": [],
   "source": [
    "X_aug = np.concatenate([np.ones((m, 1)), X], axis=1)\n",
    "theta, cost = trainLinearReg(linearRegCostFunction, X_aug, y, lambda_=0)\n",
    "\n",
    "#fitting the parameters to optimize training error using the gradient (here regularization parameter is zero)"
   ]
  },
  {
   "cell_type": "code",
   "execution_count": 220,
   "metadata": {
    "scrolled": false
   },
   "outputs": [
    {
     "data": {
      "text/plain": [
       "(array([13.08790351,  0.36777923]), 22.373906495108915)"
      ]
     },
     "execution_count": 220,
     "metadata": {},
     "output_type": "execute_result"
    }
   ],
   "source": [
    "theta, cost\n",
    "\n",
    "#we obtzined theta0 = 13; theta 1 = 0.367 with traing error reduced to 22.37 from 300{theta = [1,1]}"
   ]
  },
  {
   "cell_type": "code",
   "execution_count": 87,
   "metadata": {},
   "outputs": [
    {
     "data": {
      "text/plain": [
       "(-5.0, 40.0)"
      ]
     },
     "execution_count": 87,
     "metadata": {},
     "output_type": "execute_result"
    },
    {
     "data": {
      "image/png": "[encoded data removed]",
      "text/plain": [
       "<Figure size 432x288 with 1 Axes>"
      ]
     },
     "metadata": {
      "needs_background": "light"
     },
     "output_type": "display_data"
    }
   ],
   "source": [
    "pyplot.plot(X, y,'ro', ms = 8, mec= 'k', mew = 1)\n",
    "pyplot.xlabel('Change in water level (x)')\n",
    "pyplot.ylabel('Water flowing out of the dam (y)')\n",
    "pyplot.plot(X, np.dot(X_aug, theta), 'b--', lw=2)\n",
    "pyplot.ylim(-5,40)"
   ]
  },
  {
   "cell_type": "code",
   "execution_count": 81,
   "metadata": {},
   "outputs": [
    {
     "data": {
      "image/png": "[encoded data removed]",
      "text/plain": [
       "<Figure size 432x288 with 1 Axes>"
      ]
     },
     "metadata": {
      "needs_background": "light"
     },
     "output_type": "display_data"
    }
   ],
   "source": [
    "# add a columns of ones for the y-intercept\n",
    "X_aug = np.concatenate([np.ones((m, 1)), X], axis=1)\n",
    "theta, cost = trainLinearReg(linearRegCostFunction, X_aug, y, lambda_=0)\n",
    "\n",
    "#  Plot fit over the data\n",
    "pyplot.plot(X, y, 'ro', ms=10, mec='k', mew=1.5)\n",
    "pyplot.xlabel('Change in water level (x)')\n",
    "pyplot.ylabel('Water flowing out of the dam (y)')\n",
    "pyplot.plot(X, np.dot(X_aug, theta), '--', lw=2);\n",
    "\n",
    "#we can see here that fitting a linear function is (one feature; theta1) is high bias here\n"
   ]
  },
  {
   "cell_type": "markdown",
   "metadata": {},
   "source": [
    "<a id=\"section3\"></a>\n",
    "## 2 Bias-variance\n",
    "\n",
    "An important concept in machine learning is the bias-variance tradeoff. Models with high bias are not complex enough for the data and tend to underfit, while models with high variance overfit to the training data.\n",
    "\n",
    "In this part of the exercise, you will plot training and test errors on a learning curve to diagnose bias-variance problems.\n",
    "\n",
    "### 2.1 Learning Curves\n",
    "\n",
    "You will now implement code to generate the learning curves that will be useful in debugging learning algorithms. Recall that a learning curve plots training and cross validation error as a function of training set size. Your job is to fill in the function `learningCurve` in the next cell, so that it returns a vector of errors for the training set and cross validation set.\n",
    "\n",
    "To plot the learning curve, we need a training and cross validation set error for different training set sizes. To obtain different training set sizes, you should use different subsets of the original training set `X`. Specifically, for a training set size of $i$, you should use the first $i$ examples (i.e., `X[:i, :]`\n",
    "and `y[:i]`).\n",
    "\n",
    "You can use the `trainLinearReg` function (by calling `utils.trainLinearReg(...)`) to find the $\\theta$ parameters. Note that the `lambda_` is passed as a parameter to the `learningCurve` function.\n",
    "After learning the $\\theta$ parameters, you should compute the error on the training and cross validation sets. Recall that the training error for a dataset is defined as\n",
    "\n",
    "$$ J_{\\text{train}} = \\frac{1}{2m} \\left[ \\sum_{i=1}^m \\left(h_\\theta \\left( x^{(i)} \\right) - y^{(i)} \\right)^2 \\right] $$\n",
    "\n",
    "In particular, note that the training error does not include the regularization term. One way to compute the training error is to use your existing cost function and set $\\lambda$ to 0 only when using it to compute the training error and cross validation error. When you are computing the training set error, make sure you compute it on the training subset (i.e., `X[:n,:]` and `y[:n]`) instead of the entire training set. However, for the cross validation error, you should compute it over the entire cross validation set. You should store\n",
    "the computed errors in the vectors error train and error val.\n",
    "\n",
    "<a id=\"func2\"></a>"
   ]
  },
  {
   "cell_type": "code",
   "execution_count": 221,
   "metadata": {},
   "outputs": [],
   "source": [
    "def learningCurve(X, y, Xval, yval, lambda_=0):\n",
    "    \"\"\"\n",
    "    Generates the train and cross validation set errors needed to plot a learning curve\n",
    "    returns the train and cross validation set errors for a learning curve. \n",
    "    \n",
    "    In this function, you will compute the train and test errors for\n",
    "    dataset sizes from 1 up to m. In practice, when working with larger\n",
    "    datasets, you might want to do this in larger intervals.\n",
    "    \n",
    "    Parameters\n",
    "    ----------\n",
    "    X : array_like\n",
    "        The training dataset. Matrix with shape (m x n + 1) where m is the \n",
    "        total number of examples, and n is the number of features \n",
    "        before adding the bias term.\n",
    "    \n",
    "    y : array_like\n",
    "        The functions values at each training datapoint. A vector of\n",
    "        shape (m, ).\n",
    "    \n",
    "    Xval : array_like\n",
    "        The validation dataset. Matrix with shape (m_val x n + 1) where m is the \n",
    "        total number of examples, and n is the number of features \n",
    "        before adding the bias term.\n",
    "    \n",
    "    yval : array_like\n",
    "        The functions values at each validation datapoint. A vector of\n",
    "        shape (m_val, ).\n",
    "    \n",
    "    lambda_ : float, optional\n",
    "        The regularization parameter.\n",
    "    \n",
    "    Returns\n",
    "    -------\n",
    "    error_train : array_like\n",
    "        A vector of shape m. error_train[i] contains the training error for\n",
    "        i examples.\n",
    "    error_val : array_like\n",
    "        A vecotr of shape m. error_val[i] contains the validation error for\n",
    "        i training examples.\n",
    "    \n",
    "    Instructions\n",
    "    ------------\n",
    "    Fill in this function to return training errors in error_train and the\n",
    "    cross validation errors in error_val. i.e., error_train[i] and \n",
    "    error_val[i] should give you the errors obtained after training on i examples.\n",
    "    \n",
    "    Notes\n",
    "    -----\n",
    "    - You should evaluate the training error on the first i training\n",
    "      examples (i.e., X[:i, :] and y[:i]).\n",
    "    \n",
    "      For the cross-validation error, you should instead evaluate on\n",
    "      the _entire_ cross validation set (Xval and yval).\n",
    "    \n",
    "    - If you are using your cost function (linearRegCostFunction) to compute\n",
    "      the training and cross validation error, you should call the function with\n",
    "      the lambda argument set to 0. Do note that you will still need to use\n",
    "      lambda when running the training to obtain the theta parameters.\n",
    "    \n",
    "    Hint\n",
    "    ----\n",
    "    You can loop over the examples with the following:\n",
    "     \n",
    "           for i in range(1, m+1):\n",
    "               # Compute train/cross validation errors using training examples \n",
    "               # X[:i, :] and y[:i], storing the result in \n",
    "               # error_train[i-1] and error_val[i-1]\n",
    "               ....  \n",
    "    \"\"\"\n",
    "    # Number of training examples\n",
    "    m = y.size\n",
    "\n",
    "    # You need to return these values correctly\n",
    "    error_train = np.zeros(m)\n",
    "    error_val   = np.zeros(m)\n",
    "\n",
    "    # ====================== YOUR CODE HERE ======================\n",
    "    for i in range(1, m+1):\n",
    "        theta,_ = trainLinearReg(linearRegCostFunction, X[:i, :], y[:i], lambda_)\n",
    "        error_train[i-1],_ = linearRegCostFunction(X[:i, :], y[:i],theta, lambda_=0)\n",
    "        error_val[i-1], _ = linearRegCostFunction(Xval, yval,theta, lambda_=0)\n",
    "        \n",
    "\n",
    "        \n",
    "    # =============================================================\n",
    "    return error_train, error_val"
   ]
  },
  {
   "cell_type": "markdown",
   "metadata": {},
   "source": [
    "When you are finished implementing the function `learningCurve`, executing the next cell prints the learning curves and produce a plot similar to the figure below. \n",
    "\n",
    "![](Figures/learning_curve.png)\n",
    "\n",
    "In the learning curve figure, you can observe that both the train error and cross validation error are high when the number of training examples is increased. This reflects a high bias problem in the model - the linear regression model is too simple and is unable to fit our dataset well. In the next section, you will implement polynomial regression to fit a better model for this dataset."
   ]
  },
  {
   "cell_type": "code",
   "execution_count": 222,
   "metadata": {},
   "outputs": [
    {
     "name": "stdout",
     "output_type": "stream",
     "text": [
      "# Training Examples\tTrain Error\tCross Validation Error\n",
      "  \t1\t\t0.000000\t205.121096\n",
      "  \t2\t\t0.000000\t110.302641\n",
      "  \t3\t\t3.286595\t45.010231\n",
      "  \t4\t\t2.842678\t48.368911\n",
      "  \t5\t\t13.154049\t35.865165\n",
      "  \t6\t\t19.443963\t33.829962\n",
      "  \t7\t\t20.098522\t31.970986\n",
      "  \t8\t\t18.172859\t30.862446\n",
      "  \t9\t\t22.609405\t31.135998\n",
      "  \t10\t\t23.261462\t28.936207\n",
      "  \t11\t\t24.317250\t29.551432\n",
      "  \t12\t\t22.373906\t29.433818\n"
     ]
    },
    {
     "data": {
      "image/png": "[encoded data removed]",
      "text/plain": [
       "<Figure size 432x288 with 1 Axes>"
      ]
     },
     "metadata": {
      "needs_background": "light"
     },
     "output_type": "display_data"
    }
   ],
   "source": [
    "X_aug = np.concatenate([np.ones((m, 1)), X], axis=1)\n",
    "Xval_aug = np.concatenate([np.ones((yval.size, 1)), Xval], axis=1)\n",
    "error_train, error_val = learningCurve(X_aug, y, Xval_aug, yval, lambda_=0)\n",
    "\n",
    "pyplot.plot(np.arange(1, m+1), error_train, np.arange(1, m+1), error_val, lw=2)\n",
    "pyplot.title('Learning curve for linear regression')\n",
    "pyplot.legend(['Train', 'Cross Validation'])\n",
    "pyplot.xlabel('Number of training examples')\n",
    "pyplot.ylabel('Error')\n",
    "pyplot.axis([0, 13, 0, 150])\n",
    "\n",
    "print('# Training Examples\\tTrain Error\\tCross Validation Error')\n",
    "for i in range(m):\n",
    "    print('  \\t%d\\t\\t%f\\t%f' % (i+1, error_train[i], error_val[i]))"
   ]
  },
  {
   "cell_type": "markdown",
   "metadata": {},
   "source": [
    "*You should now submit your solutions.*"
   ]
  },
  {
   "cell_type": "code",
   "execution_count": 129,
   "metadata": {},
   "outputs": [
    {
     "name": "stdout",
     "output_type": "stream",
     "text": [
      "\n",
      "Submitting Solutions | Programming Exercise regularized-linear-regression-and-bias-variance\n",
      "\n",
      "Use token from last successful submission (nehatrical@gmail.com)? (Y/n): Y\n",
      "                                  Part Name |     Score | Feedback\n",
      "                                  --------- |     ----- | --------\n",
      "Regularized Linear Regression Cost Function |  25 /  25 | Nice work!\n",
      "     Regularized Linear Regression Gradient |  25 /  25 | Nice work!\n",
      "                             Learning Curve |  20 /  20 | Nice work!\n",
      "                 Polynomial Feature Mapping |   0 /  10 | \n",
      "                           Validation Curve |   0 /  20 | \n",
      "                                  --------------------------------\n",
      "                                            |  70 / 100 |  \n",
      "\n"
     ]
    }
   ],
   "source": [
    "grader[3] = learningCurve\n",
    "grader.grade()"
   ]
  },
  {
   "cell_type": "markdown",
   "metadata": {},
   "source": [
    "<a id=\"section4\"></a>\n",
    "\n",
    "## 3 Polynomial regression\n",
    "\n",
    "The problem with our linear model was that it was too simple for the data\n",
    "and resulted in underfitting (high bias). In this part of the exercise, you will address this problem by adding more features. For polynomial regression, our hypothesis has the form:\n",
    "\n",
    "$$\n",
    "\\begin{align}\n",
    "h_\\theta(x)  &= \\theta_0 + \\theta_1 \\times (\\text{waterLevel}) + \\theta_2 \\times (\\text{waterLevel})^2 + \\cdots + \\theta_p \\times (\\text{waterLevel})^p \\\\\n",
    "& = \\theta_0 + \\theta_1 x_1 + \\theta_2 x_2 + \\cdots + \\theta_p x_p\n",
    "\\end{align}\n",
    "$$\n",
    "\n",
    "Notice that by defining $x_1 = (\\text{waterLevel})$, $x_2 = (\\text{waterLevel})^2$ , $\\cdots$, $x_p =\n",
    "(\\text{waterLevel})^p$, we obtain a linear regression model where the features are the various powers of the original value (waterLevel).\n",
    "\n",
    "Now, you will add more features using the higher powers of the existing feature $x$ in the dataset. Your task in this part is to complete the code in the function `polyFeatures` in the next cell. The function should map the original training set $X$ of size $m \\times 1$ into its higher powers. Specifically, when a training set $X$ of size $m \\times 1$ is passed into the function, the function should return a $m \\times p$ matrix `X_poly`, where column 1 holds the original values of X, column 2 holds the values of $X^2$, column 3 holds the values of $X^3$, and so on. Note that you don’t have to account for the zero-eth power in this function.\n",
    "\n",
    "<a id=\"polyFeatures\"></a>"
   ]
  },
  {
   "cell_type": "code",
   "execution_count": 130,
   "metadata": {},
   "outputs": [
    {
     "name": "stdout",
     "output_type": "stream",
     "text": [
      "0\n",
      "1\n",
      "2\n",
      "3\n",
      "4\n",
      "5\n",
      "6\n",
      "7\n",
      "8\n",
      "9\n"
     ]
    }
   ],
   "source": [
    "for i in range(10):\n",
    "    print(i)"
   ]
  },
  {
   "cell_type": "code",
   "execution_count": 223,
   "metadata": {},
   "outputs": [],
   "source": [
    "def polyFeatures(X, p):\n",
    "    \"\"\"\n",
    "    Maps X (1D vector) into the p-th power.\n",
    "    \n",
    "    Parameters\n",
    "    ----------\n",
    "    X : array_like\n",
    "        A data vector of size m, where m is the number of examples.\n",
    "    \n",
    "    p : int\n",
    "        The polynomial power to map the features. \n",
    "    \n",
    "    Returns \n",
    "    -------\n",
    "    X_poly : array_like\n",
    "        A matrix of shape (m x p) where p is the polynomial \n",
    "        power and m is the number of examples. That is:\n",
    "    \n",
    "        X_poly[i, :] = [X[i], X[i]**2, X[i]**3 ...  X[i]**p]\n",
    "    \n",
    "    Instructions\n",
    "    ------------\n",
    "    Given a vector X, return a matrix X_poly where the p-th column of\n",
    "    X contains the values of X to the p-th power.\n",
    "    \"\"\"\n",
    "    # You need to return the following variables correctly.\n",
    "    X_poly = np.zeros((X.shape[0], p))\n",
    "\n",
    "\n",
    "    # ====================== YOUR CODE HERE ======================\n",
    "    for i in range(0,X.shape[0]):\n",
    "#         print(\"\\n\")\n",
    "#         print(\"i:\", i)\n",
    "        for j in range(1, p+1):\n",
    "#             print(\"p:\", j)\n",
    "            X_poly[i,j-1]= X[i]**(j)\n",
    "\n",
    "    # ============================================================\n",
    "    return X_poly"
   ]
  },
  {
   "cell_type": "markdown",
   "metadata": {},
   "source": [
    "Now you have a function that will map features to a higher dimension. The next cell will apply it to the training set, the test set, and the cross validation set."
   ]
  },
  {
   "cell_type": "code",
   "execution_count": 224,
   "metadata": {},
   "outputs": [
    {
     "data": {
      "text/plain": [
       "(12, 1)"
      ]
     },
     "execution_count": 224,
     "metadata": {},
     "output_type": "execute_result"
    }
   ],
   "source": [
    "X.shape"
   ]
  },
  {
   "cell_type": "code",
   "execution_count": 225,
   "metadata": {},
   "outputs": [],
   "source": [
    "p = 8\n",
    "\n",
    "# Map X onto Polynomial Features and Normalize\n",
    "X_poly = polyFeatures(X, p)"
   ]
  },
  {
   "cell_type": "code",
   "execution_count": 178,
   "metadata": {},
   "outputs": [
    {
     "name": "stdout",
     "output_type": "stream",
     "text": [
      "Normalized Training Example 1: \n",
      " [ 1.         -0.36214078 -0.75508669  0.18222588 -0.70618991  0.30661792\n",
      " -0.59087767  0.3445158  -0.50848117]\n",
      "Normalized Test Example 1:\n",
      " [ 1.         -0.94220394  0.33149914 -0.50128942 -0.03307354 -0.11950565\n",
      " -0.24013304  0.11556833 -0.33419137]\n",
      "Normalized Val Example 1:\n",
      " [ 1.         -0.38916543 -0.72149541  0.16876064 -0.69803716  0.30354037\n",
      " -0.58940525  0.34396872 -0.50824813]\n"
     ]
    }
   ],
   "source": [
    "p = 8\n",
    "\n",
    "# Map X onto Polynomial Features and Normalize\n",
    "X_poly = polyFeatures(X, p)\n",
    "X_poly, mu, sigma = utils.featureNormalize(X_poly)\n",
    "X_poly = np.concatenate([np.ones((m, 1)), X_poly], axis=1)\n",
    "\n",
    "# Map X_poly_test and normalize (using mu and sigma)\n",
    "X_poly_test = polyFeatures(Xtest, p)\n",
    "X_poly_test -= mu\n",
    "X_poly_test /= sigma\n",
    "X_poly_test = np.concatenate([np.ones((ytest.size, 1)), X_poly_test], axis=1)\n",
    "\n",
    "# Map X_poly_val and normalize (using mu and sigma)\n",
    "X_poly_val = polyFeatures(Xval, p)\n",
    "X_poly_val -= mu\n",
    "X_poly_val /= sigma\n",
    "X_poly_val = np.concatenate([np.ones((yval.size, 1)), X_poly_val], axis=1)\n",
    "\n",
    "print('Normalized Training Example 1: \\n', X_poly[0, :])\n",
    "\n",
    "\n",
    "print('Normalized Test Example 1:\\n', X_poly_test[0, :])\n",
    "\n",
    "\n",
    "print('Normalized Val Example 1:\\n', X_poly_val[0, :])\n"
   ]
  },
  {
   "cell_type": "markdown",
   "metadata": {},
   "source": [
    "*You should now submit your solutions.*"
   ]
  },
  {
   "cell_type": "code",
   "execution_count": 179,
   "metadata": {},
   "outputs": [
    {
     "name": "stdout",
     "output_type": "stream",
     "text": [
      "\n",
      "Submitting Solutions | Programming Exercise regularized-linear-regression-and-bias-variance\n",
      "\n",
      "Use token from last successful submission (nehatrical@gmail.com)? (Y/n): Y\n",
      "                                  Part Name |     Score | Feedback\n",
      "                                  --------- |     ----- | --------\n",
      "Regularized Linear Regression Cost Function |  25 /  25 | Nice work!\n",
      "     Regularized Linear Regression Gradient |  25 /  25 | Nice work!\n",
      "                             Learning Curve |  20 /  20 | Nice work!\n",
      "                 Polynomial Feature Mapping |  10 /  10 | Nice work!\n",
      "                           Validation Curve |   0 /  20 | \n",
      "                                  --------------------------------\n",
      "                                            |  80 / 100 |  \n",
      "\n"
     ]
    }
   ],
   "source": [
    "grader[4] = polyFeatures\n",
    "grader.grade()"
   ]
  },
  {
   "cell_type": "markdown",
   "metadata": {},
   "source": [
    "## 3.1 Learning Polynomial Regression\n",
    "\n",
    "After you have completed the function `polyFeatures`, we will proceed to train polynomial regression using your linear regression cost function.\n",
    "\n",
    "Keep in mind that even though we have polynomial terms in our feature vector, we are still solving a linear regression optimization problem. The polynomial terms have simply turned into features that we can use for linear regression. We are using the same cost function and gradient that you wrote for the earlier part of this exercise.\n",
    "\n",
    "For this part of the exercise, you will be using a polynomial of degree 8. It turns out that if we run the training directly on the projected data, will not work well as the features would be badly scaled (e.g., an example with $x = 40$ will now have a feature $x_8 = 40^8 = 6.5 \\times 10^{12}$). Therefore, you will\n",
    "need to use feature normalization.\n",
    "\n",
    "Before learning the parameters $\\theta$ for the polynomial regression, we first call `featureNormalize` and normalize the features of the training set, storing the mu, sigma parameters separately. We have already implemented this function for you (in `utils.py` module) and it is the same function from the first exercise.\n",
    "\n",
    "After learning the parameters $\\theta$, you should see two plots generated for polynomial regression with $\\lambda = 0$, which should be similar to the ones here:\n",
    "\n",
    "<table>\n",
    "    <tr>\n",
    "        <td><img src=\"Figures/polynomial_regression.png\"></td>\n",
    "        <td><img src=\"Figures/polynomial_learning_curve.png\"></td>\n",
    "    </tr>\n",
    "</table>\n",
    "\n",
    "You should see that the polynomial fit is able to follow the datapoints very well, thus, obtaining a low training error. The figure on the right shows that the training error essentially stays zero for all numbers of training samples. However, the polynomial fit is very complex and even drops off at the extremes. This is an indicator that the polynomial regression model is overfitting the training data and will not generalize well.\n",
    "\n",
    "To better understand the problems with the unregularized ($\\lambda = 0$) model, you can see that the learning curve  shows the same effect where the training error is low, but the cross validation error is high. There is a gap between the training and cross validation errors, indicating a high variance problem."
   ]
  },
  {
   "cell_type": "code",
   "execution_count": 180,
   "metadata": {},
   "outputs": [
    {
     "name": "stdout",
     "output_type": "stream",
     "text": [
      "Polynomial Regression (lambda = 0.000000)\n",
      "\n",
      "# Training Examples\tTrain Error\tCross Validation Error\n",
      "  \t1\t\t0.000000\t160.721900\n",
      "  \t2\t\t0.000000\t160.121511\n",
      "  \t3\t\t0.000000\t59.071635\n",
      "  \t4\t\t0.000000\t77.998004\n",
      "  \t5\t\t0.000000\t6.449033\n",
      "  \t6\t\t0.000000\t10.829905\n",
      "  \t7\t\t0.000000\t27.917628\n",
      "  \t8\t\t0.001442\t18.841672\n",
      "  \t9\t\t0.000185\t31.270978\n",
      "  \t10\t\t0.014306\t76.118843\n",
      "  \t11\t\t0.032764\t38.041801\n",
      "  \t12\t\t0.030051\t39.119110\n"
     ]
    },
    {
     "data": {
      "image/png": "[encoded data removed]",
      "text/plain": [
       "<Figure size 432x288 with 1 Axes>"
      ]
     },
     "metadata": {
      "needs_background": "light"
     },
     "output_type": "display_data"
    },
    {
     "data": {
      "image/png": "[encoded data removed]",
      "text/plain": [
       "<Figure size 432x288 with 1 Axes>"
      ]
     },
     "metadata": {
      "needs_background": "light"
     },
     "output_type": "display_data"
    }
   ],
   "source": [
    "lambda_ = 0\n",
    "theta = utils.trainLinearReg(linearRegCostFunction, X_poly, y,\n",
    "                             lambda_=lambda_, maxiter=55)\n",
    "\n",
    "# Plot training data and fit\n",
    "pyplot.plot(X, y, 'ro', ms=10, mew=1.5, mec='k')\n",
    "\n",
    "utils.plotFit(polyFeatures, np.min(X), np.max(X), mu, sigma, theta, p)\n",
    "\n",
    "pyplot.xlabel('Change in water level (x)')\n",
    "pyplot.ylabel('Water flowing out of the dam (y)')\n",
    "pyplot.title('Polynomial Regression Fit (lambda = %f)' % lambda_)\n",
    "pyplot.ylim([-20, 50])\n",
    "\n",
    "pyplot.figure()\n",
    "error_train, error_val = learningCurve(X_poly, y, X_poly_val, yval, lambda_)\n",
    "pyplot.plot(np.arange(1, 1+m), error_train, np.arange(1, 1+m), error_val)\n",
    "\n",
    "pyplot.title('Polynomial Regression Learning Curve (lambda = %f)' % lambda_)\n",
    "pyplot.xlabel('Number of training examples')\n",
    "pyplot.ylabel('Error')\n",
    "pyplot.axis([0, 13, 0, 100])\n",
    "pyplot.legend(['Train', 'Cross Validation'])\n",
    "\n",
    "print('Polynomial Regression (lambda = %f)\\n' % lambda_)\n",
    "print('# Training Examples\\tTrain Error\\tCross Validation Error')\n",
    "for i in range(m):\n",
    "    print('  \\t%d\\t\\t%f\\t%f' % (i+1, error_train[i], error_val[i]))"
   ]
  },
  {
   "cell_type": "markdown",
   "metadata": {},
   "source": [
    "One way to combat the overfitting (high-variance) problem is to add regularization to the model. In the next section, you will get to  try different $\\lambda$ parameters to see how regularization can lead to a better model.\n",
    "\n",
    "### 3.2 Optional (ungraded) exercise: Adjusting the regularization parameter\n",
    "\n",
    "In this section, you will get to observe how the regularization parameter affects the bias-variance of regularized polynomial regression. You should now modify the the lambda parameter and try $\\lambda = 1, 100$. For each of these values, the script should generate a polynomial fit to the data and also a learning curve.\n",
    "\n",
    "For $\\lambda = 1$, the generated plots should look like the the figure below. You should see a polynomial fit that follows the data trend well (left) and a learning curve (right) showing that both the cross validation and training error converge to a relatively low value. This shows the $\\lambda = 1$ regularized polynomial regression model does not have the high-bias or high-variance problems. In effect, it achieves a good trade-off between bias and variance.\n",
    "\n",
    "<table>\n",
    "    <tr>\n",
    "        <td><img src=\"Figures/polynomial_regression_reg_1.png\"></td>\n",
    "        <td><img src=\"Figures/polynomial_learning_curve_reg_1.png\"></td>\n",
    "    </tr>\n",
    "</table>\n",
    "\n",
    "For $\\lambda = 100$, you should see a polynomial fit (figure below) that does not follow the data well. In this case, there is too much regularization and the model is unable to fit the training data.\n",
    "\n",
    "![](Figures/polynomial_regression_reg_100.png)\n",
    "\n",
    "*You do not need to submit any solutions for this optional (ungraded) exercise.*"
   ]
  },
  {
   "cell_type": "markdown",
   "metadata": {},
   "source": [
    "<a id=\"section5\"></a>\n",
    "### 3.3 Selecting $\\lambda$ using a cross validation set\n",
    "\n",
    "From the previous parts of the exercise, you observed that the value of $\\lambda$ can significantly affect the results of regularized polynomial regression on the training and cross validation set. In particular, a model without regularization ($\\lambda = 0$) fits the training set well, but does not generalize. Conversely, a model with too much regularization ($\\lambda = 100$) does not fit the training set and testing set well. A good choice of $\\lambda$ (e.g., $\\lambda = 1$) can provide a good fit to the data.\n",
    "\n",
    "In this section, you will implement an automated method to select the $\\lambda$ parameter. Concretely, you will use a cross validation set to evaluate how good each $\\lambda$ value is. After selecting the best $\\lambda$ value using the cross validation set, we can then evaluate the model on the test set to estimate\n",
    "how well the model will perform on actual unseen data. \n",
    "\n",
    "Your task is to complete the code in the function `validationCurve`. Specifically, you should should use the `utils.trainLinearReg` function to train the model using different values of $\\lambda$ and compute the training error and cross validation error. You should try $\\lambda$ in the following range: {0, 0.001, 0.003, 0.01, 0.03, 0.1, 0.3, 1, 3, 10}.\n",
    "<a id=\"validationCurve\"></a>"
   ]
  },
  {
   "cell_type": "code",
   "execution_count": 183,
   "metadata": {},
   "outputs": [],
   "source": [
    "def validationCurve(X, y, Xval, yval):\n",
    "    \"\"\"\n",
    "    Generate the train and validation errors needed to plot a validation\n",
    "    curve that we can use to select lambda_.\n",
    "    \n",
    "    Parameters\n",
    "    ----------\n",
    "    X : array_like\n",
    "        The training dataset. Matrix with shape (m x n) where m is the \n",
    "        total number of training examples, and n is the number of features \n",
    "        including any polynomial features.\n",
    "    \n",
    "    y : array_like\n",
    "        The functions values at each training datapoint. A vector of\n",
    "        shape (m, ).\n",
    "    \n",
    "    Xval : array_like\n",
    "        The validation dataset. Matrix with shape (m_val x n) where m is the \n",
    "        total number of validation examples, and n is the number of features \n",
    "        including any polynomial features.\n",
    "    \n",
    "    yval : array_like\n",
    "        The functions values at each validation datapoint. A vector of\n",
    "        shape (m_val, ).\n",
    "    \n",
    "    Returns\n",
    "    -------\n",
    "    lambda_vec : list\n",
    "        The values of the regularization parameters which were used in \n",
    "        cross validation.\n",
    "    \n",
    "    error_train : list\n",
    "        The training error computed at each value for the regularization\n",
    "        parameter.\n",
    "    \n",
    "    error_val : list\n",
    "        The validation error computed at each value for the regularization\n",
    "        parameter.\n",
    "    \n",
    "    Instructions\n",
    "    ------------\n",
    "    Fill in this function to return training errors in `error_train` and\n",
    "    the validation errors in `error_val`. The vector `lambda_vec` contains\n",
    "    the different lambda parameters to use for each calculation of the\n",
    "    errors, i.e, `error_train[i]`, and `error_val[i]` should give you the\n",
    "    errors obtained after training with `lambda_ = lambda_vec[i]`.\n",
    "\n",
    "    Note\n",
    "    ----\n",
    "    You can loop over lambda_vec with the following:\n",
    "    \n",
    "          for i in range(len(lambda_vec))\n",
    "              lambda = lambda_vec[i]\n",
    "              # Compute train / val errors when training linear \n",
    "              # regression with regularization parameter lambda_\n",
    "              # You should store the result in error_train[i]\n",
    "              # and error_val[i]\n",
    "              ....\n",
    "    \"\"\"\n",
    "    # Selected values of lambda (you should not change this)\n",
    "    lambda_vec = [0, 0.001, 0.003, 0.01, 0.03, 0.1, 0.3, 1, 3, 10]\n",
    "\n",
    "    # You need to return these variables correctly.\n",
    "    error_train = np.zeros(len(lambda_vec))\n",
    "    error_val = np.zeros(len(lambda_vec))\n",
    "\n",
    "    # ====================== YOUR CODE HERE ======================\n",
    "    X = np.concatenate([np.ones((y.shape[0], 1)), X], axis=1)\n",
    "    Xval = np.concatenate([np.ones((yval.shape[0], 1)), Xval], axis=1)\n",
    "    \n",
    "    for i in range(1, len(lambda_vec)+1):\n",
    "        lambda_ = lambda_vec[i-1]\n",
    "        \n",
    "        theta,_ = trainLinearReg(linearRegCostFunction, X, y, lambda_)\n",
    "        error_train[i-1],_ = linearRegCostFunction(X, y,theta, lambda_=0)\n",
    "        error_val[i-1], _ = linearRegCostFunction(Xval, yval,theta, lambda_=0)\n",
    "\n",
    "\n",
    "\n",
    "    # ============================================================\n",
    "    return lambda_vec, error_train, error_val"
   ]
  },
  {
   "cell_type": "code",
   "execution_count": 184,
   "metadata": {},
   "outputs": [
    {
     "data": {
      "text/plain": [
       "(10,)"
      ]
     },
     "execution_count": 184,
     "metadata": {},
     "output_type": "execute_result"
    }
   ],
   "source": [
    "lambda_vec = [0, 0.001, 0.003, 0.01, 0.03, 0.1, 0.3, 1, 3, 10]\n",
    "np.zeros(len(lambda_vec)).shape\n"
   ]
  },
  {
   "cell_type": "markdown",
   "metadata": {},
   "source": [
    "After you have completed the code, the next cell will run your function and plot a cross validation curve of error v.s. $\\lambda$ that allows you select which $\\lambda$ parameter to use. You should see a plot similar to the figure below. \n",
    "\n",
    "![](Figures/cross_validation.png)\n",
    "\n",
    "In this figure, we can see that the best value of $\\lambda$ is around 3. Due to randomness\n",
    "in the training and validation splits of the dataset, the cross validation error can sometimes be lower than the training error."
   ]
  },
  {
   "cell_type": "code",
   "execution_count": 185,
   "metadata": {},
   "outputs": [
    {
     "name": "stdout",
     "output_type": "stream",
     "text": [
      "lambda\t\tTrain Error\tValidation Error\n",
      " 0.000000\t0.028901\t55.043068\n",
      " 0.001000\t0.112439\t9.828218\n",
      " 0.003000\t0.170841\t16.305636\n",
      " 0.010000\t0.221527\t16.944736\n",
      " 0.030000\t0.281857\t12.828376\n",
      " 0.100000\t0.459315\t7.586964\n",
      " 0.300000\t0.921768\t4.636832\n",
      " 1.000000\t2.076187\t4.260628\n",
      " 3.000000\t4.901509\t3.822929\n",
      " 10.000000\t16.092218\t9.945512\n"
     ]
    },
    {
     "data": {
      "image/png": "[encoded data removed]",
      "text/plain": [
       "<Figure size 432x288 with 1 Axes>"
      ]
     },
     "metadata": {
      "needs_background": "light"
     },
     "output_type": "display_data"
    }
   ],
   "source": [
    "lambda_vec, error_train, error_val = validationCurve(X_poly, y, X_poly_val, yval)\n",
    "\n",
    "pyplot.plot(lambda_vec, error_train, '-o', lambda_vec, error_val, '-o', lw=2)\n",
    "pyplot.legend(['Train', 'Cross Validation'])\n",
    "pyplot.xlabel('lambda')\n",
    "pyplot.ylabel('Error')\n",
    "\n",
    "print('lambda\\t\\tTrain Error\\tValidation Error')\n",
    "for i in range(len(lambda_vec)):\n",
    "    print(' %f\\t%f\\t%f' % (lambda_vec[i], error_train[i], error_val[i]))"
   ]
  },
  {
   "cell_type": "markdown",
   "metadata": {},
   "source": [
    "*You should now submit your solutions.*"
   ]
  },
  {
   "cell_type": "code",
   "execution_count": 186,
   "metadata": {},
   "outputs": [
    {
     "name": "stdout",
     "output_type": "stream",
     "text": [
      "\n",
      "Submitting Solutions | Programming Exercise regularized-linear-regression-and-bias-variance\n",
      "\n",
      "Use token from last successful submission (nehatrical@gmail.com)? (Y/n): Y\n",
      "                                  Part Name |     Score | Feedback\n",
      "                                  --------- |     ----- | --------\n",
      "Regularized Linear Regression Cost Function |  25 /  25 | Nice work!\n",
      "     Regularized Linear Regression Gradient |  25 /  25 | Nice work!\n",
      "                             Learning Curve |  20 /  20 | Nice work!\n",
      "                 Polynomial Feature Mapping |  10 /  10 | Nice work!\n",
      "                           Validation Curve |  20 /  20 | Nice work!\n",
      "                                  --------------------------------\n",
      "                                            | 100 / 100 |  \n",
      "\n"
     ]
    }
   ],
   "source": [
    "grader[5] = validationCurve\n",
    "grader.grade()"
   ]
  },
  {
   "cell_type": "markdown",
   "metadata": {},
   "source": [
    "### 3.4  Optional (ungraded) exercise: Computing test set error\n",
    "\n",
    "In the previous part of the exercise, you implemented code to compute the cross validation error for various values of the regularization parameter $\\lambda$. However, to get a better indication of the model’s performance in the real world, it is important to evaluate the “final” model on a test set that was not used in any part of training (that is, it was neither used to select the $\\lambda$ parameters, nor to learn the model parameters $\\theta$). For this optional (ungraded) exercise, you should compute the test error using the best value of $\\lambda$ you found. In our cross validation, we obtained a test error of 3.8599 for $\\lambda = 3$.\n",
    "\n",
    "*You do not need to submit any solutions for this optional (ungraded) exercise.*"
   ]
  },
  {
   "cell_type": "code",
   "execution_count": 201,
   "metadata": {},
   "outputs": [
    {
     "name": "stdout",
     "output_type": "stream",
     "text": [
      "for lambda: 0\n",
      "theta [  5.60876297   5.60876297   9.50243647  18.91963388  30.55295805\n",
      " -28.04449915 -78.68088346   6.15757986  64.11142117  22.26158208]\n",
      "for lambda: 0.001\n",
      "theta [ 11.2769312   -0.05930445  11.36936796  15.72473807  11.97003612\n",
      " -17.21130387 -20.35233803  12.10772092  10.3361476   -3.57847056]\n",
      "for lambda: 0.003\n",
      "theta [ 11.24314493  -0.02553791  11.76272942  13.81482676   8.76914847\n",
      "  -9.15968966 -10.69038771   3.77140471   1.38969715  -3.50455321]\n",
      "for lambda: 0.01\n",
      "theta [ 1.12220551e+01 -4.46329259e-03  1.22180406e+01  1.23918175e+01\n",
      "  5.75975893e+00 -4.62022317e+00 -4.95529145e+00 -7.56886996e-01\n",
      " -2.06751845e+00 -2.39285361e+00]\n",
      "for lambda: 0.03\n",
      "theta [ 1.12174098e+01  1.83793625e-04  1.24496936e+01  1.10209909e+01\n",
      "  3.61840790e+00 -2.27814898e+00 -2.35493814e+00 -1.75497100e+00\n",
      " -1.98047046e+00 -1.62668939e+00]\n",
      "for lambda: 0.1\n",
      "theta [ 1.12177864e+01 -2.08174660e-04  1.20332289e+01  9.02462865e+00\n",
      "  2.46364001e+00 -3.10710871e-02 -7.51961600e-01 -1.11332779e+00\n",
      " -7.18641708e-01 -1.25019353e+00]\n",
      "for lambda: 0.3\n",
      "theta [ 1.12174872e+01  1.05083057e-04  1.06843469e+01  7.06170665e+00\n",
      "  2.72159047e+00  1.48307934e+00  5.34485092e-01  2.83812109e-02\n",
      "  3.72043345e-01 -5.75668500e-01]\n",
      "for lambda: 1\n",
      "theta [1.12175505e+01 4.05193684e-05 8.58518772e+00 5.21268402e+00\n",
      " 3.59110702e+00 2.28293968e+00 1.76030269e+00 1.06813586e+00\n",
      " 1.10763224e+00 3.94006115e-01]\n",
      "for lambda: 3\n",
      "theta [ 1.12175858e+01 -1.34975369e-06  6.65674491e+00  3.89422201e+00\n",
      "  3.75900250e+00  2.25303961e+00  2.20642560e+00  1.33196648e+00\n",
      "  1.35011961e+00  7.62008780e-01]\n",
      "for lambda: 10\n",
      "theta [ 1.12175888e+01 -9.15740171e-07  4.36656650e+00  2.39947073e+00\n",
      "  2.90177132e+00  1.50155092e+00  1.86591961e+00  8.98138608e-01\n",
      "  1.19375122e+00  5.09233108e-01]\n",
      "lambda\t\tTrain Error\tValidation Err\tTest Error\n",
      " 0.000000\t0.028901\t55.043068\t17.102619\n",
      " 0.001000\t0.112439\t9.828218\t15.130962\n",
      " 0.003000\t0.170841\t16.305636\t16.965853\n",
      " 0.010000\t0.221527\t16.944736\t15.914861\n",
      " 0.030000\t0.281857\t12.828376\t13.022547\n",
      " 0.100000\t0.459315\t7.586964\t9.162786\n",
      " 0.300000\t0.921768\t4.636832\t5.024850\n",
      " 1.000000\t2.076187\t4.260628\t2.725978\n",
      " 3.000000\t4.901509\t3.822929\t3.859979\n",
      " 10.000000\t16.092218\t9.945512\t17.005350\n"
     ]
    },
    {
     "data": {
      "image/png": "[encoded data removed]",
      "text/plain": [
       "<Figure size 432x288 with 1 Axes>"
      ]
     },
     "metadata": {
      "needs_background": "light"
     },
     "output_type": "display_data"
    }
   ],
   "source": [
    "\n",
    "def validationCurvetest(X, y, Xval, yval, Xtest, ytest):\n",
    "    lambda_vec = [0, 0.001, 0.003, 0.01, 0.03, 0.1, 0.3, 1, 3, 10]\n",
    "\n",
    "    # You need to return these variables correctly.\n",
    "    error_train = np.zeros(len(lambda_vec))\n",
    "    error_val = np.zeros(len(lambda_vec))\n",
    "    error_test = np.zeros(len(lambda_vec))\n",
    "\n",
    "    # ====================== YOUR CODE HERE ======================\n",
    "    X = np.concatenate([np.ones((y.shape[0], 1)), X], axis=1)\n",
    "    Xval = np.concatenate([np.ones((yval.shape[0], 1)), Xval], axis=1)\n",
    "    Xtest = np.concatenate([np.ones((ytest.shape[0], 1)), Xtest], axis=1)\n",
    "\n",
    "    for i in range(1, len(lambda_vec)+1):\n",
    "        lambda_ = lambda_vec[i-1]\n",
    "\n",
    "        theta,_ = trainLinearReg(linearRegCostFunction, X, y, lambda_)\n",
    "        print(\"for lambda: {}\".format(lambda_))\n",
    "        print(\"theta\", theta)\n",
    "        error_train[i-1],_ = linearRegCostFunction(X, y,theta, lambda_=0)\n",
    "        error_val[i-1], _ = linearRegCostFunction(Xval, yval,theta, lambda_=0)\n",
    "        error_test[i-1], _ = linearRegCostFunction(Xtest, ytest,theta, lambda_=0)\n",
    "     \n",
    "    return lambda_vec, error_train, error_val, error_test\n",
    "\n",
    "    \n",
    "    \n",
    "lambda_vec, error_train, error_val, error_test = validationCurvetest(X_poly, y, X_poly_val, yval, X_poly_test, ytest)\n",
    "pyplot.plot(lambda_vec, error_train, '-o', lambda_vec, error_val, '-o', lambda_vec, error_test, '-o', lw=2)\n",
    "pyplot.legend(['Train', 'Cross Validation', 'Test'])\n",
    "pyplot.xlabel('lambda')\n",
    "pyplot.ylabel('Error')\n",
    "\n",
    "print('lambda\\t\\tTrain Error\\tValidation Err\\tTest Error')\n",
    "for i in range(len(lambda_vec)):\n",
    "    print(' %f\\t%f\\t%f\\t%f' % (lambda_vec[i], error_train[i], error_val[i], error_test[i]))\n",
    "\n",
    "\n"
   ]
  },
  {
   "cell_type": "code",
   "execution_count": 237,
   "metadata": {},
   "outputs": [
    {
     "name": "stdout",
     "output_type": "stream",
     "text": [
      "Normalized Training Example 1: \n",
      " [ 1.         -0.36214078 -0.75508669  0.18222588 -0.70618991  0.30661792\n",
      " -0.59087767  0.3445158  -0.50848117]\n",
      "Normalized Test Example 1:\n",
      " [ 1.         -0.94220394  0.33149914 -0.50128942 -0.03307354 -0.11950565\n",
      " -0.24013304  0.11556833 -0.33419137]\n",
      "Normalized Val Example 1:\n",
      " [ 1.         -0.38916543 -0.72149541  0.16876064 -0.69803716  0.30354037\n",
      " -0.58940525  0.34396872 -0.50824813]\n"
     ]
    }
   ],
   "source": [
    "p = 8\n",
    "\n",
    "# Map X onto Polynomial Features and Normalize\n",
    "X_poly = polyFeatures(X, p)\n",
    "X_poly, mu, sigma = utils.featureNormalize(X_poly)\n",
    "X_poly = np.concatenate([np.ones((m, 1)), X_poly], axis=1)\n",
    "\n",
    "# Map X_poly_test and normalize (using mu and sigma)\n",
    "X_poly_test = polyFeatures(Xtest, p)\n",
    "X_poly_test -= mu\n",
    "X_poly_test /= sigma\n",
    "X_poly_test = np.concatenate([np.ones((ytest.size, 1)), X_poly_test], axis=1)\n",
    "\n",
    "# Map X_poly_val and normalize (using mu and sigma)\n",
    "X_poly_val = polyFeatures(Xval, p)\n",
    "X_poly_val -= mu\n",
    "X_poly_val /= sigma\n",
    "X_poly_val = np.concatenate([np.ones((yval.size, 1)), X_poly_val], axis=1)\n",
    "\n",
    "print('Normalized Training Example 1: \\n', X_poly[0, :])\n",
    "\n",
    "\n",
    "print('Normalized Test Example 1:\\n', X_poly_test[0, :])\n",
    "\n",
    "\n",
    "print('Normalized Val Example 1:\\n', X_poly_val[0, :])\n",
    "\n"
   ]
  },
  {
   "cell_type": "code",
   "execution_count": 239,
   "metadata": {},
   "outputs": [],
   "source": [
    "def learningCurvetest(X, y, Xval, yval,Xtest, ytest, lambda_=0):\n",
    "    \"\"\"\n",
    "    Generates the train and cross validation set errors needed to plot a learning curve\n",
    "    returns the train and cross validation set errors for a learning curve. \n",
    "    \n",
    "    In this function, you will compute the train and test errors for\n",
    "    dataset sizes from 1 up to m. In practice, when working with larger\n",
    "    datasets, you might want to do this in larger intervals.\n",
    "    \n",
    "    Parameters\n",
    "    ----------\n",
    "    X : array_like\n",
    "        The training dataset. Matrix with shape (m x n + 1) where m is the \n",
    "        total number of examples, and n is the number of features \n",
    "        before adding the bias term.\n",
    "    \n",
    "    y : array_like\n",
    "        The functions values at each training datapoint. A vector of\n",
    "        shape (m, ).\n",
    "    \n",
    "    Xval : array_like\n",
    "        The validation dataset. Matrix with shape (m_val x n + 1) where m is the \n",
    "        total number of examples, and n is the number of features \n",
    "        before adding the bias term.\n",
    "    \n",
    "    yval : array_like\n",
    "        The functions values at each validation datapoint. A vector of\n",
    "        shape (m_val, ).\n",
    "    \n",
    "    lambda_ : float, optional\n",
    "        The regularization parameter.\n",
    "    \n",
    "    Returns\n",
    "    -------\n",
    "    error_train : array_like\n",
    "        A vector of shape m. error_train[i] contains the training error for\n",
    "        i examples.\n",
    "    error_val : array_like\n",
    "        A vecotr of shape m. error_val[i] contains the validation error for\n",
    "        i training examples.\n",
    "    \n",
    "    Instructions\n",
    "    ------------\n",
    "    Fill in this function to return training errors in error_train and the\n",
    "    cross validation errors in error_val. i.e., error_train[i] and \n",
    "    error_val[i] should give you the errors obtained after training on i examples.\n",
    "    \n",
    "    Notes\n",
    "    -----\n",
    "    - You should evaluate the training error on the first i training\n",
    "      examples (i.e., X[:i, :] and y[:i]).\n",
    "    \n",
    "      For the cross-validation error, you should instead evaluate on\n",
    "      the _entire_ cross validation set (Xval and yval).\n",
    "    \n",
    "    - If you are using your cost function (linearRegCostFunction) to compute\n",
    "      the training and cross validation error, you should call the function with\n",
    "      the lambda argument set to 0. Do note that you will still need to use\n",
    "      lambda when running the training to obtain the theta parameters.\n",
    "    \n",
    "    Hint\n",
    "    ----\n",
    "    You can loop over the examples with the following:\n",
    "     \n",
    "           for i in range(1, m+1):\n",
    "               # Compute train/cross validation errors using training examples \n",
    "               # X[:i, :] and y[:i], storing the result in \n",
    "               # error_train[i-1] and error_val[i-1]\n",
    "               ....  \n",
    "    \"\"\"\n",
    "    # Number of training examples\n",
    "    m = y.size\n",
    "\n",
    "    # You need to return these values correctly\n",
    "    error_train = np.zeros(m)\n",
    "    error_val   = np.zeros(m)\n",
    "    error_test  = np.zeros(m)\n",
    "\n",
    "    # ====================== YOUR CODE HERE ======================\n",
    "    for i in range(1, m+1):\n",
    "        theta,_ = trainLinearReg(linearRegCostFunction, X[:i, :], y[:i], lambda_)\n",
    "        error_train[i-1],_ = linearRegCostFunction(X[:i, :], y[:i],theta, lambda_=0)\n",
    "        error_val[i-1], _ = linearRegCostFunction(Xval, yval,theta, lambda_=0)\n",
    "        error_test[i-1], _ = linearRegCostFunction(Xtest, ytest,theta, lambda_=0)\n",
    "        \n",
    "\n",
    "        \n",
    "    # =============================================================\n",
    "    return error_train, error_val,error_test"
   ]
  },
  {
   "cell_type": "code",
   "execution_count": 241,
   "metadata": {},
   "outputs": [
    {
     "name": "stdout",
     "output_type": "stream",
     "text": [
      "Polynomial Regression (lambda = 3.000000)\n",
      "\n",
      "# Training Examples\tTrain Error\tCross Validation Error Test Error\n",
      "  \t1\t\t0.000000\t138.846777\t164.709076\n",
      "  \t2\t\t0.080704\t143.808317\t169.779712\n",
      "  \t3\t\t15.062852\t6.660747\t11.376190\n",
      "  \t4\t\t9.168031\t4.322521\t5.365247\n",
      "  \t5\t\t7.265773\t4.511018\t4.894375\n",
      "  \t6\t\t5.748444\t4.861816\t4.997470\n",
      "  \t7\t\t5.782694\t4.230118\t4.456939\n",
      "  \t8\t\t4.879505\t4.360617\t4.346039\n",
      "  \t9\t\t4.641373\t4.792851\t4.755793\n",
      "  \t10\t\t4.232230\t4.684224\t4.780203\n",
      "  \t11\t\t3.820539\t4.807689\t4.888737\n",
      "  \t12\t\t4.901372\t3.822929\t3.859903\n"
     ]
    },
    {
     "data": {
      "image/png": "[encoded data removed]",
      "text/plain": [
       "<Figure size 432x288 with 1 Axes>"
      ]
     },
     "metadata": {
      "needs_background": "light"
     },
     "output_type": "display_data"
    },
    {
     "data": {
      "image/png": "[encoded data removed]",
      "text/plain": [
       "<Figure size 432x288 with 1 Axes>"
      ]
     },
     "metadata": {
      "needs_background": "light"
     },
     "output_type": "display_data"
    }
   ],
   "source": [
    "lambda_ = 3\n",
    "theta = utils.trainLinearReg(linearRegCostFunction, X_poly, y,\n",
    "                             lambda_=lambda_, maxiter=55)\n",
    "\n",
    "# Plot training data and fit\n",
    "pyplot.plot(X, y, 'ro', ms=10, mew=1.5, mec='k')\n",
    "\n",
    "utils.plotFit(polyFeatures, np.min(X), np.max(X), mu, sigma, theta, p)\n",
    "\n",
    "pyplot.xlabel('Change in water level (x)')\n",
    "pyplot.ylabel('Water flowing out of the dam (y)')\n",
    "pyplot.title('Polynomial Regression Fit (lambda = %f)' % lambda_)\n",
    "pyplot.ylim([-20, 50])\n",
    "\n",
    "pyplot.figure()\n",
    "error_train, error_val, error_test = learningCurvetest(X_poly, y, X_poly_val, yval, X_poly_test, ytest, lambda_)\n",
    "pyplot.plot(np.arange(1, 1+m), error_train, np.arange(1, 1+m), error_val, np.arange(1, 1+m), error_test)\n",
    "\n",
    "pyplot.title('Polynomial Regression Learning Curve (lambda = %f)' % lambda_)\n",
    "pyplot.xlabel('Number of training examples')\n",
    "pyplot.ylabel('Error')\n",
    "pyplot.axis([0, 13, 0, 100])\n",
    "pyplot.legend(['Train', 'Cross Validation', 'Test'])\n",
    "\n",
    "print('Polynomial Regression (lambda = %f)\\n' % lambda_)\n",
    "print('# Training Examples\\tTrain Error\\tCross Validation Error Test Error')\n",
    "for i in range(m):\n",
    "    print('  \\t%d\\t\\t%f\\t%f\\t%f' % (i+1, error_train[i], error_val[i], error_test[i]))"
   ]
  },
  {
   "cell_type": "markdown",
   "metadata": {},
   "source": [
    "### 3.5 Optional (ungraded) exercise: Plotting learning curves with randomly selected examples\n",
    "\n",
    "In practice, especially for small training sets, when you plot learning curves to debug your algorithms, it is often helpful to average across multiple sets of randomly selected examples to determine the training error and cross validation error.\n",
    "\n",
    "Concretely, to determine the training error and cross validation error for $i$ examples, you should first randomly select $i$ examples from the training set and $i$ examples from the cross validation set. You will then learn the parameters $\\theta$ using the randomly chosen training set and evaluate the parameters $\\theta$ on the randomly chosen training set and cross validation set. The above steps should then be repeated multiple times (say 50) and the averaged error should be used to determine the training error and cross validation error for $i$ examples.\n",
    "\n",
    "For this optional (ungraded) exercise, you should implement the above strategy for computing the learning curves. For reference, the figure below  shows the learning curve we obtained for polynomial regression with $\\lambda = 0.01$. Your figure may differ slightly due to the random selection of examples.\n",
    "\n",
    "![](Figures/learning_curve_random.png)\n",
    "\n",
    "*You do not need to submit any solutions for this optional (ungraded) exercise.*"
   ]
  },
  {
   "cell_type": "code",
   "execution_count": null,
   "metadata": {},
   "outputs": [],
   "source": [
    "m = y.shape[0]\n",
    "error_train = np.zeros(m)\n",
    "error_val   = np.zeros(m)\n",
    "error_test  = np.zeros(m)\n",
    "\n",
    "lambda_ = 0.01\n",
    "no_iter = 50\n",
    "for i in range(0, no_iter):\n",
    "    for j in range(1, y.shape[0]+1):\n",
    "        n = j\n",
    "        index = np.random.choice(X.shape[0], n, replace=False) \n",
    "        theta,_ = trainLinearReg(linearRegCostFunction, X_poly[index], y[index], lambda_)\n",
    "        temp,_ = linearRegCostFunction(X_poly[index], y[index],theta, lambda_=0)\n",
    "        error_train[j-1] +=  temp\n",
    "        temp, _ = linearRegCostFunction(X_poly_val, yval,theta, lambda_=0)\n",
    "        error_val[j-1] += temp\n",
    "        temp, _ = linearRegCostFunction(X_poly_test, ytest,theta, lambda_=0)\n",
    "        error_test[j-1] += temp\n",
    "\n",
    "print(error_train)\n",
    "error_train = error_train/no_iter\n",
    "error_val = error_train/no_iter\n",
    "error_test = error_train/no_iter\n",
    "print(error_train)\n",
    "\n",
    "\n"
   ]
  },
  {
   "cell_type": "code",
   "execution_count": 285,
   "metadata": {},
   "outputs": [
    {
     "name": "stdout",
     "output_type": "stream",
     "text": [
      "[1.67293931e-13 1.07770057e-08 6.37734151e-03 3.70051818e-03\n",
      " 3.73096353e-03 6.90593236e-02 1.00990816e-01 1.54928063e-01\n",
      " 2.12578478e-01 1.99194828e-01 2.17361557e-01 2.21532101e-01]\n",
      "[138.84901847 123.64411017  19.94876402   8.94930585   8.55762914\n",
      "   5.96381874   8.89789996  28.3833515   15.3278164   15.54898137\n",
      "   7.77547154  16.93958258]\n",
      "[1.67294060e-13 2.17943146e-01 6.73821343e-03 9.77629258e-02\n",
      " 1.51629028e-01 1.18213448e-01 1.79356850e-01 2.43573932e-01\n",
      " 3.52250248e-01 3.85890983e-01 3.97718773e-01 4.42980611e-01]\n",
      "[506.0301248  154.04797183  33.518398    59.19617868  16.10631146\n",
      "  40.80277281  15.08838525  67.4792249   36.33637318  30.82482792\n",
      "  23.49695292  33.89193739]\n",
      "[1.67294188e-13 2.17975410e-01 1.33587230e-02 9.81015742e-02\n",
      " 1.61396778e-01 1.26706427e-01 2.57453043e-01 3.53667977e-01\n",
      " 4.81656179e-01 6.01558755e-01 6.07071345e-01 6.64378188e-01]\n",
      "[873.21123113 297.58259187 141.62177549  72.95243969  22.12097915\n",
      "  51.39748281  24.1660468   81.73968989  42.64104585  38.39742386\n",
      "  38.38324781  50.83939983]\n",
      "[1.67302670e-13 2.18200645e-01 1.39357298e-02 1.03082679e-01\n",
      " 2.44924987e-01 2.41899125e-01 2.71276570e-01 5.80798320e-01\n",
      " 6.70534910e-01 8.22634104e-01 8.24435671e-01 8.85816376e-01]\n",
      "[967.97059609 418.36629119 151.15199212  91.9666609   82.61714463\n",
      "  62.54483026  43.42472135  96.68875473  57.09009689  54.97250287\n",
      "  46.16010952  67.78418229]\n",
      "[1.97659446e-13 2.18783706e-01 1.44797754e-02 1.54951547e-01\n",
      " 3.03440364e-01 2.52920919e-01 3.85663838e-01 6.98417663e-01\n",
      " 8.89547303e-01 9.72864627e-01 9.66497966e-01 1.10731701e+00]\n",
      "[1097.26676309  437.73693893  165.75213982  121.67963124   95.06213215\n",
      "   66.83153791   61.84247413  116.84852918   72.99496168   85.13374778\n",
      "   76.93057385   84.72779641]\n",
      "[1.97659446e-13 2.18785423e-01 1.59770220e-02 2.35721325e-01\n",
      " 3.66774155e-01 3.19359954e-01 4.85374710e-01 8.06668997e-01\n",
      " 1.00111507e+00 1.15954618e+00 1.18208582e+00 1.32882853e+00]\n",
      "[1408.19802447  512.74911489  196.13808707  131.69081501  116.40865665\n",
      "   78.7262344    67.81807206  131.55327992  101.21129768  100.4101315\n",
      "   92.30136929  101.67027011]\n",
      "[1.97661745e-13 2.18791887e-01 1.61627632e-02 2.36059974e-01\n",
      " 3.92023023e-01 4.59202465e-01 7.07687437e-01 8.91654208e-01\n",
      " 1.05465589e+00 1.35410981e+00 1.39137822e+00 1.55033555e+00]\n",
      "[1547.18749272  588.24438772  286.67629671  145.44708198  140.28208281\n",
      "   98.75926211  153.87410815  159.84279446  119.58819647  115.07710802\n",
      "  107.19891608  118.57766646]\n",
      "[2.02958524e-13 2.24501308e-01 3.92026298e-02 3.24365263e-01\n",
      " 5.19468634e-01 6.10318693e-01 8.08693095e-01 1.01267886e+00\n",
      " 1.17650895e+00 1.53297279e+00 1.62918394e+00 1.77180464e+00]\n",
      "[1670.10487273  613.44447583  317.8829283   154.71397379  147.74182519\n",
      "  112.87394876  192.09965677  184.61249561  131.47775874  130.50794034\n",
      "  124.54049201  135.5283019 ]\n",
      "[2.08255303e-13 2.25423794e-01 5.00101691e-02 3.24742028e-01\n",
      " 5.42375228e-01 6.81183208e-01 9.04842644e-01 1.14114615e+00\n",
      " 1.37332912e+00 1.73590892e+00 1.84473394e+00 1.99330700e+00]\n",
      "[1793.02225273  644.03628538  361.74634524  169.86867308  172.87863106\n",
      "  130.5094979   197.69801179  210.01325752  144.59304759  146.60604901\n",
      "  139.91183419  152.47004981]\n",
      "[5.16608859e-13 2.25423794e-01 5.58312924e-02 3.25296722e-01\n",
      " 5.46707640e-01 7.38575236e-01 9.42908166e-01 1.25066738e+00\n",
      " 1.57325177e+00 1.93345665e+00 2.02509725e+00 2.21479373e+00]\n",
      "[1924.82922915  766.88340924  372.71235036  180.65438374  193.18643227\n",
      "  148.28035689  204.82394636  229.29648513  159.28474838  162.41489296\n",
      "  155.62916676  169.41667866]\n",
      "[5.20787880e-13 2.25649029e-01 5.60170336e-02 3.76339232e-01\n",
      " 5.71767361e-01 9.20321872e-01 1.06172439e+00 1.46129986e+00\n",
      " 1.70798831e+00 2.13101291e+00 2.26287379e+00 2.43630345e+00]\n",
      "[2007.28170838  887.66710857  463.25056001  193.92568862  211.04605562\n",
      "  202.73498031  235.56980253  241.91841933  179.69236555  178.22280352\n",
      "  172.97656185  186.36131981]\n",
      "[5.51144657e-13 2.26433744e-01 6.57398839e-02 3.84469838e-01\n",
      " 6.12465505e-01 1.09246732e+00 1.07063610e+00 1.55751165e+00\n",
      " 1.92414879e+00 2.32870748e+00 2.50490564e+00 2.65780992e+00]\n",
      "[2136.57787539 1000.59874003  487.85124015  240.74023379  255.18633777\n",
      "  211.63587271  245.30607942  247.80524783  194.37875519  194.18076299\n",
      "  188.76592238  203.30101822]\n",
      "[5.51144785e-13 2.26453347e-01 6.60820543e-02 4.00966114e-01\n",
      " 6.47534411e-01 1.11329895e+00 1.22285060e+00 1.60047837e+00\n",
      " 2.12399330e+00 2.50757508e+00 2.63996440e+00 2.87930016e+00]\n",
      "[2503.75898172 1092.04445609  499.98844094  273.28190897  378.4105969\n",
      "  237.13299394  256.26816086  262.91811777  209.09817505  209.44852428\n",
      "  211.17045348  220.24641818]\n",
      "[7.18438716e-13 2.44006358e-01 7.80142603e-02 4.32777820e-01\n",
      " 7.78399620e-01 1.12437192e+00 1.35810964e+00 1.74766304e+00\n",
      " 2.21653273e+00 2.65723474e+00 2.85557187e+00 3.10079328e+00]\n",
      "[2642.60800019 1214.90569486  545.80764032  291.20179047  384.70832549\n",
      "  246.17195472  269.45678264  274.83877678  227.32382584  219.87436649\n",
      "  226.53704002  237.1568924 ]\n",
      "[7.58192683e-13 4.61949493e-01 2.39528527e-01 4.37799361e-01\n",
      " 8.17480125e-01 1.12599562e+00 1.52762735e+00 1.90562652e+00\n",
      " 2.38810768e+00 2.84639101e+00 3.09764012e+00 3.32228862e+00]\n",
      "[2776.40212486 1245.30955652  563.49254734  300.80808882  397.5562865\n",
      "  259.10022331  289.92905743  279.95118567  241.08652061  234.54356689\n",
      "  242.32132015  254.10053416]\n",
      "[9.25486615e-13 4.61993299e-01 2.39906291e-01 4.72238188e-01\n",
      " 8.20531909e-01 1.17296316e+00 1.65122199e+00 2.02791241e+00\n",
      " 2.48498551e+00 3.08045698e+00 3.33890847e+00 3.54374602e+00]\n",
      "[2915.25114332 1379.77919641  579.11161774  368.97680042  405.60148204\n",
      "  266.2960888   309.99793743  287.65597197  255.53827006  242.44009292\n",
      "  259.30709597  271.05158878]\n",
      "[9.65240582e-13 5.63274079e-01 2.40811429e-01 4.94555090e-01\n",
      " 8.92455327e-01 1.30926496e+00 1.72217127e+00 2.18501757e+00\n",
      " 2.73608864e+00 3.18321282e+00 3.57668382e+00 3.76524414e+00]\n",
      "[3049.04526799 1397.2552294   588.41224024  389.53918458  414.00094677\n",
      "  297.16976996  349.63651237  301.19594089  271.03984338  271.16692166\n",
      "  276.65855102  287.99868066]\n",
      "[1.00499455e-12 5.63274079e-01 2.49517512e-01 4.99060114e-01\n",
      " 9.19726570e-01 1.37158588e+00 1.81443612e+00 2.37634865e+00\n",
      " 2.82850846e+00 3.31548233e+00 3.81796440e+00 3.98671839e+00]\n",
      "[3182.83939267 1520.10235327  675.7725257   533.89254914  431.18276208\n",
      "  371.71320297  377.23350517  314.52229922  276.98154154  291.63535726\n",
      "  293.64222336  304.95110167]\n",
      "[1.00499455e-12 5.64058794e-01 2.50336599e-01 5.03544835e-01\n",
      " 9.65249331e-01 1.50978158e+00 1.85328024e+00 2.44489103e+00\n",
      " 2.96933471e+00 3.51140799e+00 4.05574343e+00 4.20822003e+00]\n",
      "[3493.77065404 1633.03398473  700.05739029  542.61712255  438.19740721\n",
      "  382.96380166  386.67785998  339.52131444  292.20817032  306.22139374\n",
      "  310.98801687  321.86033617]\n",
      "[1.17228848e-12 5.69768214e-01 2.61278877e-01 5.30827251e-01\n",
      " 9.74861134e-01 1.52544811e+00 1.87596521e+00 2.65573100e+00\n",
      " 3.12323952e+00 3.61340707e+00 4.23609387e+00 4.42968850e+00]\n",
      "[3632.61967251 1658.23407284  733.00913098  600.77750437  449.89180571\n",
      "  409.33842133  410.83467019  347.59537316  315.30759693  334.24460983\n",
      "  326.70478366  338.80862672]\n",
      "[1.21204245e-12 5.70451562e-01 2.74268077e-01 5.62650958e-01\n",
      " 1.01445619e+00 1.66453887e+00 1.94464655e+00 2.73300565e+00\n",
      " 3.24330053e+00 3.76301339e+00 4.47388333e+00 4.65117210e+00]\n",
      "[3766.41379718 1681.61865044  773.08826821  619.20938416  463.0138352\n",
      "  418.92282317  419.18104001  374.03608422  321.01689472  348.18014122\n",
      "  344.0596758   355.7587032 ]\n",
      "[1.21205093e-12 5.76160983e-01 2.75094694e-01 5.69259107e-01\n",
      " 1.08452375e+00 1.84524354e+00 2.04566744e+00 2.86443628e+00\n",
      " 3.38144744e+00 3.94016685e+00 4.65427160e+00 4.87269315e+00]\n",
      "[3861.17316214 1706.81873855  814.11827625  629.01364004  479.93483675\n",
      "  433.36024975  428.07027859  380.15199157  334.27619153  361.26263145\n",
      "  359.77340714  372.66205486]\n",
      "[1.21205093e-12 5.82072664e-01 2.84540122e-01 5.71546665e-01\n",
      " 1.10173720e+00 1.96041719e+00 2.19354092e+00 2.98738214e+00\n",
      " 3.54747075e+00 4.07887429e+00 4.86987084e+00 5.09415640e+00]\n",
      "[4172.10442351 1824.69574032  901.3493825   636.15234821  508.88746493\n",
      "  438.67294988  442.08554998  408.72149883  365.69158238  366.96989687\n",
      "  375.13980476  389.61191092]\n",
      "[1.21205108e-12 5.82086960e-01 2.85283053e-01 6.29738373e-01\n",
      " 1.11040864e+00 2.09952375e+00 2.26305043e+00 3.09724126e+00\n",
      " 3.68471919e+00 4.25105911e+00 5.01191782e+00 5.31563554e+00]\n",
      "[4294.94182013 2036.57159025  959.41164966  663.23889627  520.0501167\n",
      "  453.80064076  450.19168679  423.09890836  375.97854733  379.82992046\n",
      "  405.91500934  406.5295524 ]\n"
     ]
    },
    {
     "name": "stdout",
     "output_type": "stream",
     "text": [
      "[1.37934501e-12 5.82086971e-01 2.85760262e-01 8.19395868e-01\n",
      " 1.13380632e+00 2.11613237e+00 2.42689020e+00 3.17855169e+00\n",
      " 3.83854554e+00 4.50928171e+00 5.25319915e+00 5.53714178e+00]\n",
      "[4433.79083859 2160.21570043  970.57432429  677.01209729  546.96543721\n",
      "  472.93770843  462.12431491  448.61921021  389.41461671  395.59626695\n",
      "  422.90248614  423.47286885]\n",
      "[1.37934731e-12 5.82087129e-01 2.86110983e-01 9.09987775e-01\n",
      " 1.21919745e+00 2.18608914e+00 2.45148032e+00 3.30784395e+00\n",
      " 4.04080701e+00 4.64796611e+00 5.47054143e+00 5.75862750e+00]\n",
      "[4572.78030685 2297.19003869  992.36355381  733.41059545  562.44380612\n",
      "  481.30769933  467.18051909  475.34166507  403.9599822   401.30402323\n",
      "  430.68015632  440.41770473]\n",
      "[1.41910127e-12 5.82087947e-01 2.86772763e-01 9.50413473e-01\n",
      " 1.29433326e+00 2.25561059e+00 2.62958222e+00 3.47929653e+00\n",
      " 4.17643238e+00 4.84719470e+00 5.61262628e+00 5.98011974e+00]\n",
      "[4706.57443152 2394.06325495 1013.15893987  757.1858658   570.9390018\n",
      "  487.53959977  493.85693457  482.51615769  409.73346444  416.8538126\n",
      "  461.43782514  457.36469011]\n",
      "[1.72745483e-12 5.82088370e-01 3.63099023e-01 9.56281088e-01\n",
      " 1.29500977e+00 2.29238813e+00 2.74882191e+00 3.63639767e+00\n",
      " 4.34236968e+00 4.98601378e+00 5.75471991e+00 6.20160265e+00]\n",
      "[4838.38140794 2531.29193597 1039.72679493  767.10451503  586.4467365\n",
      "  514.7237203   517.13781804  496.05530316  441.16704686  444.71367931\n",
      "  492.20023377  474.31466753]\n",
      "[1.72745483e-12 5.82107972e-01 3.63726768e-01 9.65956731e-01\n",
      " 1.38328569e+00 2.45494430e+00 2.79282699e+00 3.81959928e+00\n",
      " 4.59868573e+00 5.24994095e+00 5.89683929e+00 6.42311142e+00]\n",
      "[5149.31266931 2622.73765203 1098.02550877  849.14219966  633.7923497\n",
      "  570.34166447  540.06024172  503.12695942  455.64255253  460.94680575\n",
      "  522.9541979   491.25814742]\n",
      "[1.75781161e-12 5.82151778e-01 4.19340248e-01 9.70977774e-01\n",
      " 1.40997481e+00 2.63397799e+00 2.85723112e+00 4.01503013e+00\n",
      " 4.73432075e+00 5.39734705e+00 6.07720455e+00 6.64465183e+00]\n",
      "[5278.60883632 2757.20729192 1124.44901855  858.74824945  652.78546825\n",
      "  583.81568973  557.16557864  514.81404859  461.42057271  483.45060963\n",
      "  538.6755837   508.20218365]\n",
      "[1.75781175e-12 5.82151835e-01 4.19916395e-01 9.71302070e-01\n",
      " 1.47263269e+00 2.71830875e+00 2.90095128e+00 4.18837527e+00\n",
      " 4.87649787e+00 5.50013392e+00 6.21925008e+00 6.86616367e+00]\n",
      "[5401.44623293 2907.06418999 1149.79133018  873.78984883  683.1030118\n",
      "  592.30080886  574.19269351  542.27748866  488.08233136  512.15625594\n",
      "  569.45089638  525.14633268]\n",
      "[1.76310853e-12 5.82151846e-01 4.23647114e-01 1.02318499e+00\n",
      " 1.48089817e+00 2.75181173e+00 2.91756383e+00 4.37038426e+00\n",
      " 5.07439189e+00 5.73893604e+00 6.43662510e+00 7.08766155e+00]\n",
      "[5524.36361294 3030.70830016 1265.50998044  903.48005091  712.78449541\n",
      "  598.41213166  599.45471232  571.28355213  501.16554216  526.68839841\n",
      "  577.22183775  542.05494416]\n",
      "[1.80286250e-12 5.82152269e-01 4.23934887e-01 1.09578590e+00\n",
      " 1.50433715e+00 2.83614096e+00 2.97318056e+00 4.47938811e+00\n",
      " 5.24590918e+00 5.96632681e+00 6.62386251e+00 7.30916494e+00]\n",
      "[5658.15773761 3167.93698118 1312.45092328  963.09076416  738.13923865\n",
      "  606.89733748  605.7277103   590.89689926  515.29421849  541.85804162\n",
      "  592.96118949  558.99898692]\n",
      "[1.80287098e-12 5.82152691e-01 4.24189100e-01 1.13815609e+00\n",
      " 1.58586021e+00 2.96694151e+00 3.02211253e+00 4.49628499e+00\n",
      " 5.40012298e+00 6.11598769e+00 6.80417612e+00 7.53063948e+00]\n",
      "[5752.91710257 3305.16566221 1358.53180624  985.32156863  764.31591122\n",
      "  625.50333909  624.07987444  615.46023119  541.21305506  552.2853689\n",
      "  608.68094584  575.91092958]\n",
      "[1.80287098e-12 5.82937406e-01 4.77957363e-01 1.13852840e+00\n",
      " 1.73120542e+00 2.97223969e+00 3.14799211e+00 4.60528234e+00\n",
      " 5.56590673e+00 6.26559212e+00 6.99141420e+00 7.75215118e+00]\n",
      "[6063.84836394 3418.09729367 1382.56801528  996.51982025  777.12710368\n",
      "  631.63395851  638.61147026  635.07448094  555.44633636  566.21680135\n",
      "  624.42036109  592.81881935]\n",
      "[1.80287328e-12 5.82981211e-01 4.81111305e-01 1.13899102e+00\n",
      " 1.74081475e+00 3.00777413e+00 3.30762550e+00 4.66090136e+00\n",
      " 5.72543600e+00 6.40913968e+00 7.17865202e+00 7.97365686e+00]\n",
      "[6202.83783219 3552.56693356 1445.06173676 1010.36720373  788.81097297\n",
      "  644.42638654  650.58196487  649.37037094  577.80828907  588.21546175\n",
      "  640.15989334  609.76196377]\n",
      "[1.97016721e-12 5.82995507e-01 4.88530699e-01 1.13981996e+00\n",
      " 1.79073272e+00 3.03588329e+00 3.45404942e+00 4.81662830e+00\n",
      " 5.94315261e+00 6.58131889e+00 7.36584740e+00 8.19513843e+00]\n",
      "[6341.68685066 3764.4427835  1530.49560104 1020.11178772  836.78302208\n",
      "  649.80152487  661.08177428  676.0832814   592.56374749  601.07628155\n",
      "  655.88517977  626.71266138]\n",
      "[1.97016951e-12 5.84482995e-01 4.88784968e-01 1.16376033e+00\n",
      " 1.79747811e+00 3.05668630e+00 3.53440907e+00 5.03248197e+00\n",
      " 6.01366056e+00 6.73194212e+00 7.55307914e+00 8.41662330e+00]\n",
      "[6480.67631892 3877.00714381 1576.57667484 1050.76419086  842.68579053\n",
      "  672.89865871  672.42259981  688.48365371  611.00242208  632.36331342\n",
      "  671.61737566  643.66320385]\n",
      "[1.97016951e-12 6.85763776e-01 4.99660184e-01 1.24279164e+00\n",
      " 1.80222498e+00 3.12278185e+00 3.66549280e+00 5.19303302e+00\n",
      " 6.09190883e+00 6.92108847e+00 7.73343564e+00 8.63813457e+00]\n",
      "[6791.60758029 3894.48317681 1601.26690711 1061.40722992  847.21162259\n",
      "  703.25116942  698.95598018  715.87340585  625.45225302  647.02807187\n",
      "  687.33285669  660.60718274]\n",
      "[1.97016951e-12 6.86318553e-01 5.02019011e-01 1.24693607e+00\n",
      " 1.88065521e+00 3.12808469e+00 3.72012982e+00 5.41731390e+00\n",
      " 6.19311510e+00 7.10835571e+00 7.87547700e+00 8.85960011e+00]\n",
      "[7102.53884166 3949.26010751 1780.36120774 1071.04092333  853.64224049\n",
      "  709.38254627  716.78615162  730.89647042  646.48318923  654.63055789\n",
      "  718.11063247  677.55290589]\n",
      "[1.97016964e-12 7.02559927e-01 5.07075574e-01 1.43722789e+00\n",
      " 2.06905075e+00 3.22575561e+00 3.87307170e+00 5.48004751e+00\n",
      " 6.39098020e+00 7.34538666e+00 8.08483659e+00 9.08108341e+00]\n",
      "[7252.20016541 4032.26260394 1795.94031576 1085.53354499  863.84636931\n",
      "  726.80341943  730.27582668  755.21638575  661.97801525  662.0812407\n",
      "  732.99590121  694.49958038]\n",
      "[1.97434866e-12 7.04047415e-01 5.07082846e-01 1.44583989e+00\n",
      " 2.08651534e+00 3.28252004e+00 4.11309971e+00 5.61313791e+00\n",
      " 6.61459628e+00 7.53264706e+00 8.26295091e+00 9.30258900e+00]\n",
      "[7334.65264465 4144.82696425 1932.33441812 1119.30567883  957.1828207\n",
      "  740.30796329  742.93427487  766.5796994   671.95695878  669.6861168\n",
      "  747.55564712  711.44231976]\n",
      "[1.97435714e-12 7.05534903e-01 5.07095432e-01 1.44612394e+00\n",
      " 2.11702311e+00 3.30058765e+00 4.11970478e+00 5.73436059e+00\n",
      " 6.77528972e+00 7.72726200e+00 8.50422510e+00 9.52409456e+00]\n",
      "[7429.41200961 4257.39132456 2055.87133838 1134.94630402  972.38637909\n",
      "  759.50172095  751.76421421  775.9370414   682.11921251  684.33419575\n",
      "  764.53892422  728.38556816]\n",
      "[1.97436562e-12 7.05539864e-01 5.33480579e-01 1.44856265e+00\n",
      " 2.12976410e+00 3.38535535e+00 4.21159382e+00 6.02569866e+00\n",
      " 6.97305899e+00 7.99121708e+00 8.68234770e+00 9.74555418e+00]\n",
      "[7524.17137457 4351.8032523  2085.48862286 1149.82052643  996.26105797\n",
      "  874.00932205  777.57210947  783.54222081  697.63800925  700.5723662\n",
      "  779.10024353  745.33525294]\n",
      "[1.97436575e-12 7.06125895e-01 5.87432959e-01 1.44898998e+00\n",
      " 2.25573925e+00 3.49806647e+00 4.33518787e+00 6.10105972e+00\n",
      " 7.06543142e+00 8.18704823e+00 8.92362121e+00 9.96704886e+00]\n",
      "[7673.83269832 4446.90830086 2105.89136059 1162.86546025 1002.20727278\n",
      "  881.47186319  797.64104636  801.85122771  725.04366741  715.19844212\n",
      "  796.0827836   762.28261646]\n",
      "[2.28271931e-12 7.06125953e-01 5.87445545e-01 1.44941345e+00\n",
      " 2.26293284e+00 3.50686013e+00 4.45976190e+00 6.21261057e+00\n",
      " 7.30834379e+00 8.37880975e+00 9.10397729e+00 1.01885319e+01]\n",
      "[7805.63967474 4596.76519892 2229.42828086 1177.34872595 1011.33577093\n",
      "  891.31060829  819.15105809  825.80774221  741.97941185  730.3017039\n",
      "  811.79585495  779.2326877 ]\n",
      "[2.28689833e-12 7.22367327e-01 5.96355003e-01 1.44972398e+00\n",
      " 2.47974642e+00 3.56564427e+00 4.58661762e+00 6.30087340e+00\n",
      " 7.49357130e+00 8.55767499e+00 9.24606625e+00 1.04099801e+01]\n",
      "[7888.09215397 4679.76769536 2267.46853512 1191.89409145 1022.11103258\n",
      "  908.14342389  830.04395332  835.68049345  755.06044986  745.7320927\n",
      "  842.55632373  796.18058065]\n",
      "[2.28689847e-12 7.28279008e-01 5.96848724e-01 1.45007052e+00\n",
      " 2.54153374e+00 3.57361607e+00 4.60987687e+00 6.40981035e+00\n",
      " 7.69860507e+00 8.79251148e+00 9.47932885e+00 1.06314660e+01]\n",
      "[8010.92955059 4797.64469712 2282.47297803 1205.55018172 1046.20165567\n",
      "  914.09467595  853.62895924  856.85011309  770.6438437   761.45281878\n",
      "  859.19957613  813.13069333]\n",
      "[2.45419241e-12 7.83735840e-01 5.96851443e-01 1.45032050e+00\n",
      " 2.62491160e+00 3.61341645e+00 4.75197215e+00 6.60842123e+00\n",
      " 7.86067406e+00 8.97418103e+00 9.65967458e+00 1.08529607e+01]\n",
      "[8149.77856906 4816.59396875 2421.48179387 1220.63140139 1052.43396511\n",
      "  938.9751205   866.63227814  894.3399887   794.1831338   775.02252546\n",
      "  874.92017258  830.07986632]\n",
      "[2.45419254e-12 7.84331493e-01 6.05558147e-01 1.59013547e+00\n",
      " 2.64787348e+00 3.66230676e+00 4.78765363e+00 6.71235402e+00\n"
     ]
    },
    {
     "name": "stdout",
     "output_type": "stream",
     "text": [
      " 7.98296751e+00 9.18449898e+00 9.89294739e+00 1.10744643e+01]\n",
      "[8299.43989281 4943.08031494 2508.84175562 1248.78066725 1105.87954185\n",
      "  971.45912706  872.24465347  912.60072599  806.47353321  782.30516641\n",
      "  891.56542074  847.02363175]\n",
      "[2.45419254e-12 7.84331493e-01 6.05558147e-01 1.59013547e+00\n",
      " 2.64787348e+00 3.66230676e+00 4.78765363e+00 6.71235402e+00\n",
      " 7.98296751e+00 9.18449898e+00 9.89294739e+00 1.10744643e+01]\n",
      "[8299.43989281 4943.08031494 2508.84175562 1248.78066725 1105.87954185\n",
      "  971.45912706  872.24465347  912.60072599  806.47353321  782.30516641\n",
      "  891.56542074  847.02363175]\n",
      "[4.90838507e-14 1.56866299e-02 1.21111629e-02 3.18027094e-02\n",
      " 5.29574695e-02 7.32461352e-02 9.57530726e-02 1.34247080e-01\n",
      " 1.59659350e-01 1.83689980e-01 1.97858948e-01 2.21489286e-01]\n",
      "[165.98879786  98.8616063   50.17683511  24.97561334  22.11759084\n",
      "  19.42918254  17.44489307  18.25201452  16.12947066  15.64610333\n",
      "  17.83130841  16.94047264]\n"
     ]
    }
   ],
   "source": [
    "#choosing i examples from training and calculating training error for those i examples\n",
    "m = y.shape[0]\n",
    "error_train = np.zeros(m)\n",
    "error_val   = np.zeros(m)\n",
    "error_test  = np.zeros(m)\n",
    "\n",
    "lambda_ = 0.01\n",
    "no_iter = 50\n",
    "for i in range(0, no_iter):\n",
    "    for j in range(1, y.shape[0]+1):\n",
    "        n = j\n",
    "        index = np.random.choice(X.shape[0], n, replace=False)\n",
    "#         print(index)\n",
    "        theta,_ = trainLinearReg(linearRegCostFunction, X_poly[index], y[index], lambda_)\n",
    "        temp1,_ = linearRegCostFunction(X_poly[index], y[index],theta, lambda_=0)\n",
    "        error_train[j-1] +=  temp1\n",
    "        temp2, _ = linearRegCostFunction(X_poly_val, yval,theta, lambda_=0)\n",
    "        error_val[j-1] += temp2\n",
    "        \n",
    "    print(error_train)\n",
    "    print(error_val)\n",
    "#         temp, _ = linearRegCostFunction(X_poly_test, ytest,theta, lambda_=0)\n",
    "#         error_test[j-1] += temp\n",
    "\n",
    "\n",
    "print(error_train)\n",
    "print(error_val)\n",
    "error_train = error_train/no_iter\n",
    "error_val = error_val/no_iter\n",
    "error_test = error_test/no_iter\n",
    "print(error_train)\n",
    "print(error_val)\n",
    "\n",
    "\n",
    "\n",
    "\n",
    "\n",
    "# X_poly, y, , yval, X_poly_test, ytest, lambda_"
   ]
  },
  {
   "cell_type": "code",
   "execution_count": 269,
   "metadata": {},
   "outputs": [
    {
     "data": {
      "text/plain": [
       "(array([[  1.38915437],\n",
       "        [-29.15297922],\n",
       "        [-34.70626581],\n",
       "        [-15.93675813],\n",
       "        [  7.01350208],\n",
       "        [-48.05882945],\n",
       "        [-44.38375985],\n",
       "        [ 36.18954863],\n",
       "        [ 15.30779289],\n",
       "        [ 37.49218733]]),\n",
       " array([ 3.74017167,  1.17325668,  2.61418439,  2.13431051,  7.62765885,\n",
       "         2.80896507,  3.73169131, 34.35910918, 14.71026831, 36.83795516]))"
      ]
     },
     "execution_count": 269,
     "metadata": {},
     "output_type": "execute_result"
    }
   ],
   "source": [
    "n = 10\n",
    "index = np.random.choice(X.shape[0], n, replace=False) \n",
    "X[index], y[index]"
   ]
  },
  {
   "cell_type": "code",
   "execution_count": 288,
   "metadata": {},
   "outputs": [
    {
     "name": "stdout",
     "output_type": "stream",
     "text": [
      "Polynomial Regression (lambda = 0.010000)\n",
      "\n",
      "# Training Examples\tTrain Error\tCross Validation Error Test Error\n",
      "  \t1\t\t0.000000\t165.988798\t0.000000\n",
      "  \t2\t\t0.015687\t98.861606\t0.000000\n",
      "  \t3\t\t0.012111\t50.176835\t0.000000\n",
      "  \t4\t\t0.031803\t24.975613\t0.000000\n",
      "  \t5\t\t0.052957\t22.117591\t0.000000\n",
      "  \t6\t\t0.073246\t19.429183\t0.000000\n",
      "  \t7\t\t0.095753\t17.444893\t0.000000\n",
      "  \t8\t\t0.134247\t18.252015\t0.000000\n",
      "  \t9\t\t0.159659\t16.129471\t0.000000\n",
      "  \t10\t\t0.183690\t15.646103\t0.000000\n",
      "  \t11\t\t0.197859\t17.831308\t0.000000\n",
      "  \t12\t\t0.221489\t16.940473\t0.000000\n"
     ]
    },
    {
     "data": {
      "image/png": "[encoded data removed]",
      "text/plain": [
       "<Figure size 432x288 with 1 Axes>"
      ]
     },
     "metadata": {
      "needs_background": "light"
     },
     "output_type": "display_data"
    }
   ],
   "source": [
    "pyplot.plot(np.arange(1, 1+m), error_train, np.arange(1, 1+m), error_val)\n",
    "\n",
    "pyplot.title('Polynomial Regression Learning Curve (lambda = %f)' % lambda_)\n",
    "pyplot.xlabel('Number of training examples')\n",
    "pyplot.ylabel('Error')\n",
    "pyplot.axis([0, 13, 0, 100])\n",
    "pyplot.legend(['Train', 'Cross Validation', 'Test'])\n",
    "pyplot.grid()\n",
    "\n",
    "print('Polynomial Regression (lambda = %f)\\n' % lambda_)\n",
    "print('# Training Examples\\tTrain Error\\tCross Validation Error Test Error')\n",
    "for i in range(m):\n",
    "    print('  \\t%d\\t\\t%f\\t%f\\t%f' % (i+1, error_train[i], error_val[i], error_test[i]))"
   ]
  },
  {
   "cell_type": "code",
   "execution_count": null,
   "metadata": {},
   "outputs": [],
   "source": []
  }
 ],
 "metadata": {
  "kernelspec": {
   "display_name": "Python 3",
   "language": "python",
   "name": "python3"
  },
  "language_info": {
   "codemirror_mode": {
    "name": "ipython",
    "version": 3
   },
   "file_extension": ".py",
   "mimetype": "text/x-python",
   "name": "python",
   "nbconvert_exporter": "python",
   "pygments_lexer": "ipython3",
   "version": "3.7.7"
  }
 },
 "nbformat": 4,
 "nbformat_minor": 2
}
